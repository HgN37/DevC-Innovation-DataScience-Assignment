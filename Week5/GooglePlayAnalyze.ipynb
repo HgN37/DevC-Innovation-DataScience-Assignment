{
  "nbformat": 4,
  "nbformat_minor": 0,
  "metadata": {
    "kernelspec": {
      "display_name": "Python 3",
      "language": "python",
      "name": "python3"
    },
    "language_info": {
      "codemirror_mode": {
        "name": "ipython",
        "version": 3
      },
      "file_extension": ".py",
      "mimetype": "text/x-python",
      "name": "python",
      "nbconvert_exporter": "python",
      "pygments_lexer": "ipython3",
      "version": "3.7.3"
    },
    "colab": {
      "name": "GooglePlayAnalyze.ipynb",
      "version": "0.3.2",
      "provenance": [],
      "collapsed_sections": [
        "UIn_APCOn-w5",
        "4yJ7GA5n17xz",
        "GgY4sCa1QlVn",
        "KhUExrbOvhaE",
        "SmU5hkAh9sQ7",
        "lBAMmfM5zpW6"
      ]
    }
  },
  "cells": [
    {
      "cell_type": "markdown",
      "metadata": {
        "id": "CrF3gW8HGnwV",
        "colab_type": "text"
      },
      "source": [
        "# Analyze Google Play Store dataset\n",
        "\n",
        "```\n",
        "Dashboard: https://datastudio.google.com/open/1aYKufdQ5ZW1mMSqXAPJ5y2WErK-tsMw9\n",
        "```"
      ]
    },
    {
      "cell_type": "markdown",
      "metadata": {
        "id": "8Akzj-PrGnwX",
        "colab_type": "text"
      },
      "source": [
        "## I - Some question to answer first\n",
        "1. What are we analyze? What we want to get? What is our problems?\n",
        "2. What is the metric of sucess?\n",
        "3. Is the input dataset enough to solve our problems?"
      ]
    },
    {
      "cell_type": "markdown",
      "metadata": {
        "colab_type": "text",
        "id": "Ij446Hv__vXf"
      },
      "source": [
        "## II - Take a look at the dataset and clean it"
      ]
    },
    {
      "cell_type": "markdown",
      "metadata": {
        "id": "-D0GaPGHnK7Q",
        "colab_type": "text"
      },
      "source": [
        "### Import tool"
      ]
    },
    {
      "cell_type": "code",
      "metadata": {
        "colab_type": "code",
        "id": "uuSDGVCrZ9yz",
        "colab": {}
      },
      "source": [
        "import numpy as np\n",
        "import pandas as pd\n",
        "import seaborn as sns\n",
        "import matplotlib.pyplot as plt\n",
        "%matplotlib inline\n",
        "import warnings\n",
        "warnings.filterwarnings('ignore')\n",
        "\n",
        "sns.set_style(\"whitegrid\")"
      ],
      "execution_count": 0,
      "outputs": []
    },
    {
      "cell_type": "markdown",
      "metadata": {
        "colab_type": "text",
        "id": "TMDV8MkuSl09"
      },
      "source": [
        "### Google Drive authenication"
      ]
    },
    {
      "cell_type": "code",
      "metadata": {
        "id": "mPzGx-MFSAUW",
        "colab_type": "code",
        "colab": {}
      },
      "source": [
        "!pip install -U -q PyDrive\n",
        "from pydrive.auth import GoogleAuth\n",
        "from pydrive.drive import GoogleDrive\n",
        "from google.colab import auth\n",
        "from oauth2client.client import GoogleCredentials\n",
        "\n",
        "import gspread\n",
        "from gspread_dataframe import get_as_dataframe, set_with_dataframe \n",
        "\n",
        "# Authenticate and create the PyDrive client.\n",
        "auth.authenticate_user()\n",
        "gauth = GoogleAuth()\n",
        "gauth.credentials = GoogleCredentials.get_application_default()\n",
        "drive = GoogleDrive(gauth)"
      ],
      "execution_count": 0,
      "outputs": []
    },
    {
      "cell_type": "markdown",
      "metadata": {
        "id": "Pmtkg7IiGnwe",
        "colab_type": "text"
      },
      "source": [
        "### Download and read the dataset"
      ]
    },
    {
      "cell_type": "code",
      "metadata": {
        "id": "-NcmBO3LLUbQ",
        "colab_type": "code",
        "colab": {}
      },
      "source": [
        "link = 'https://drive.google.com/open?id=1jje-EQBSIp5FSsldVUfiQmH_3YcufwWx'\n",
        "fluff, id = link.split('=')\n",
        "downloaded = drive.CreateFile({'id':id}) \n",
        "downloaded.GetContentFile('google-play-store.csv')  "
      ],
      "execution_count": 0,
      "outputs": []
    },
    {
      "cell_type": "code",
      "metadata": {
        "id": "wwdXMfNNGnwh",
        "colab_type": "code",
        "outputId": "0145d291-5e1b-4e83-964a-4ef217745bb5",
        "colab": {
          "base_uri": "https://localhost:8080/",
          "height": 449
        }
      },
      "source": [
        "gpstore = pd.read_csv('google-play-store.csv')\n",
        "gpstore.head()"
      ],
      "execution_count": 4,
      "outputs": [
        {
          "output_type": "execute_result",
          "data": {
            "text/html": [
              "<div>\n",
              "<style scoped>\n",
              "    .dataframe tbody tr th:only-of-type {\n",
              "        vertical-align: middle;\n",
              "    }\n",
              "\n",
              "    .dataframe tbody tr th {\n",
              "        vertical-align: top;\n",
              "    }\n",
              "\n",
              "    .dataframe thead th {\n",
              "        text-align: right;\n",
              "    }\n",
              "</style>\n",
              "<table border=\"1\" class=\"dataframe\">\n",
              "  <thead>\n",
              "    <tr style=\"text-align: right;\">\n",
              "      <th></th>\n",
              "      <th>App</th>\n",
              "      <th>Category</th>\n",
              "      <th>Rating</th>\n",
              "      <th>Reviews</th>\n",
              "      <th>Size</th>\n",
              "      <th>Installs</th>\n",
              "      <th>Type</th>\n",
              "      <th>Price</th>\n",
              "      <th>Content Rating</th>\n",
              "      <th>Genres</th>\n",
              "      <th>Last Updated</th>\n",
              "      <th>Current Ver</th>\n",
              "      <th>Android Ver</th>\n",
              "    </tr>\n",
              "  </thead>\n",
              "  <tbody>\n",
              "    <tr>\n",
              "      <th>0</th>\n",
              "      <td>Photo Editor &amp; Candy Camera &amp; Grid &amp; ScrapBook</td>\n",
              "      <td>ART_AND_DESIGN</td>\n",
              "      <td>4.1</td>\n",
              "      <td>159</td>\n",
              "      <td>19M</td>\n",
              "      <td>10,000+</td>\n",
              "      <td>Free</td>\n",
              "      <td>0</td>\n",
              "      <td>Everyone</td>\n",
              "      <td>Art &amp; Design</td>\n",
              "      <td>January 7, 2018</td>\n",
              "      <td>1.0.0</td>\n",
              "      <td>4.0.3 and up</td>\n",
              "    </tr>\n",
              "    <tr>\n",
              "      <th>1</th>\n",
              "      <td>Coloring book moana</td>\n",
              "      <td>ART_AND_DESIGN</td>\n",
              "      <td>3.9</td>\n",
              "      <td>967</td>\n",
              "      <td>14M</td>\n",
              "      <td>500,000+</td>\n",
              "      <td>Free</td>\n",
              "      <td>0</td>\n",
              "      <td>Everyone</td>\n",
              "      <td>Art &amp; Design;Pretend Play</td>\n",
              "      <td>January 15, 2018</td>\n",
              "      <td>2.0.0</td>\n",
              "      <td>4.0.3 and up</td>\n",
              "    </tr>\n",
              "    <tr>\n",
              "      <th>2</th>\n",
              "      <td>U Launcher Lite – FREE Live Cool Themes, Hide ...</td>\n",
              "      <td>ART_AND_DESIGN</td>\n",
              "      <td>4.7</td>\n",
              "      <td>87510</td>\n",
              "      <td>8.7M</td>\n",
              "      <td>5,000,000+</td>\n",
              "      <td>Free</td>\n",
              "      <td>0</td>\n",
              "      <td>Everyone</td>\n",
              "      <td>Art &amp; Design</td>\n",
              "      <td>August 1, 2018</td>\n",
              "      <td>1.2.4</td>\n",
              "      <td>4.0.3 and up</td>\n",
              "    </tr>\n",
              "    <tr>\n",
              "      <th>3</th>\n",
              "      <td>Sketch - Draw &amp; Paint</td>\n",
              "      <td>ART_AND_DESIGN</td>\n",
              "      <td>4.5</td>\n",
              "      <td>215644</td>\n",
              "      <td>25M</td>\n",
              "      <td>50,000,000+</td>\n",
              "      <td>Free</td>\n",
              "      <td>0</td>\n",
              "      <td>Teen</td>\n",
              "      <td>Art &amp; Design</td>\n",
              "      <td>June 8, 2018</td>\n",
              "      <td>Varies with device</td>\n",
              "      <td>4.2 and up</td>\n",
              "    </tr>\n",
              "    <tr>\n",
              "      <th>4</th>\n",
              "      <td>Pixel Draw - Number Art Coloring Book</td>\n",
              "      <td>ART_AND_DESIGN</td>\n",
              "      <td>4.3</td>\n",
              "      <td>967</td>\n",
              "      <td>2.8M</td>\n",
              "      <td>100,000+</td>\n",
              "      <td>Free</td>\n",
              "      <td>0</td>\n",
              "      <td>Everyone</td>\n",
              "      <td>Art &amp; Design;Creativity</td>\n",
              "      <td>June 20, 2018</td>\n",
              "      <td>1.1</td>\n",
              "      <td>4.4 and up</td>\n",
              "    </tr>\n",
              "  </tbody>\n",
              "</table>\n",
              "</div>"
            ],
            "text/plain": [
              "                                                 App  ...   Android Ver\n",
              "0     Photo Editor & Candy Camera & Grid & ScrapBook  ...  4.0.3 and up\n",
              "1                                Coloring book moana  ...  4.0.3 and up\n",
              "2  U Launcher Lite – FREE Live Cool Themes, Hide ...  ...  4.0.3 and up\n",
              "3                              Sketch - Draw & Paint  ...    4.2 and up\n",
              "4              Pixel Draw - Number Art Coloring Book  ...    4.4 and up\n",
              "\n",
              "[5 rows x 13 columns]"
            ]
          },
          "metadata": {
            "tags": []
          },
          "execution_count": 4
        }
      ]
    },
    {
      "cell_type": "markdown",
      "metadata": {
        "id": "DDJqAfCRGnwq",
        "colab_type": "text"
      },
      "source": [
        "### Get some information of this dataset"
      ]
    },
    {
      "cell_type": "code",
      "metadata": {
        "id": "sV86lUNGGnwr",
        "colab_type": "code",
        "outputId": "5e39eb3f-a3c5-40c4-8e33-f03334e4e87a",
        "colab": {
          "base_uri": "https://localhost:8080/",
          "height": 330
        }
      },
      "source": [
        "gpstore.info()"
      ],
      "execution_count": 5,
      "outputs": [
        {
          "output_type": "stream",
          "text": [
            "<class 'pandas.core.frame.DataFrame'>\n",
            "RangeIndex: 10841 entries, 0 to 10840\n",
            "Data columns (total 13 columns):\n",
            "App               10841 non-null object\n",
            "Category          10841 non-null object\n",
            "Rating            9367 non-null float64\n",
            "Reviews           10841 non-null object\n",
            "Size              10841 non-null object\n",
            "Installs          10841 non-null object\n",
            "Type              10840 non-null object\n",
            "Price             10841 non-null object\n",
            "Content Rating    10840 non-null object\n",
            "Genres            10841 non-null object\n",
            "Last Updated      10841 non-null object\n",
            "Current Ver       10833 non-null object\n",
            "Android Ver       10838 non-null object\n",
            "dtypes: float64(1), object(12)\n",
            "memory usage: 1.1+ MB\n"
          ],
          "name": "stdout"
        }
      ]
    },
    {
      "cell_type": "code",
      "metadata": {
        "id": "tcmZsKGEGnwv",
        "colab_type": "code",
        "outputId": "b9f2880f-329a-4b90-b5f5-f6aa737403b8",
        "colab": {
          "base_uri": "https://localhost:8080/",
          "height": 81
        }
      },
      "source": [
        "gpstore.describe().T"
      ],
      "execution_count": 6,
      "outputs": [
        {
          "output_type": "execute_result",
          "data": {
            "text/html": [
              "<div>\n",
              "<style scoped>\n",
              "    .dataframe tbody tr th:only-of-type {\n",
              "        vertical-align: middle;\n",
              "    }\n",
              "\n",
              "    .dataframe tbody tr th {\n",
              "        vertical-align: top;\n",
              "    }\n",
              "\n",
              "    .dataframe thead th {\n",
              "        text-align: right;\n",
              "    }\n",
              "</style>\n",
              "<table border=\"1\" class=\"dataframe\">\n",
              "  <thead>\n",
              "    <tr style=\"text-align: right;\">\n",
              "      <th></th>\n",
              "      <th>count</th>\n",
              "      <th>mean</th>\n",
              "      <th>std</th>\n",
              "      <th>min</th>\n",
              "      <th>25%</th>\n",
              "      <th>50%</th>\n",
              "      <th>75%</th>\n",
              "      <th>max</th>\n",
              "    </tr>\n",
              "  </thead>\n",
              "  <tbody>\n",
              "    <tr>\n",
              "      <th>Rating</th>\n",
              "      <td>9367.0</td>\n",
              "      <td>4.193338</td>\n",
              "      <td>0.537431</td>\n",
              "      <td>1.0</td>\n",
              "      <td>4.0</td>\n",
              "      <td>4.3</td>\n",
              "      <td>4.5</td>\n",
              "      <td>19.0</td>\n",
              "    </tr>\n",
              "  </tbody>\n",
              "</table>\n",
              "</div>"
            ],
            "text/plain": [
              "         count      mean       std  min  25%  50%  75%   max\n",
              "Rating  9367.0  4.193338  0.537431  1.0  4.0  4.3  4.5  19.0"
            ]
          },
          "metadata": {
            "tags": []
          },
          "execution_count": 6
        }
      ]
    },
    {
      "cell_type": "markdown",
      "metadata": {
        "id": "X2LH_pL9Gnwz",
        "colab_type": "text"
      },
      "source": [
        "### Take a look of values in each column and clean it"
      ]
    },
    {
      "cell_type": "markdown",
      "metadata": {
        "id": "-w0w21oOYbWh",
        "colab_type": "text"
      },
      "source": [
        "#### App"
      ]
    },
    {
      "cell_type": "code",
      "metadata": {
        "id": "Az1KlxyRYg50",
        "colab_type": "code",
        "colab": {
          "base_uri": "https://localhost:8080/",
          "height": 1000
        },
        "outputId": "83d4d9ee-ebe5-488b-d4fc-a1eccbdd784c"
      },
      "source": [
        "# sort by Last Updated\n",
        "gpstore.sort_values(by='Last Updated', ascending=True, inplace=True)\n",
        "\n",
        "# drop all the duplicated\n",
        "gpstore.drop_duplicates(subset = ['App', 'Category', 'Type', 'Content Rating', 'Genres'], keep = 'last', inplace = True)\n",
        "gpstore.drop_duplicates(subset = ['App', 'Last Updated'], keep = 'last', inplace = True)\n",
        "\n",
        "# that means we only keep the Latest Updated App in every app having the same values in ['App', 'Category', 'Type', 'Content Rating', 'Genres']\n",
        "gpstore['App'].value_counts()"
      ],
      "execution_count": 7,
      "outputs": [
        {
          "output_type": "execute_result",
          "data": {
            "text/plain": [
              "Bubble Shooter                                       3\n",
              "Chess Free                                           2\n",
              "English Grammar Test                                 2\n",
              "Farm Heroes Saga                                     2\n",
              "Solitaire                                            2\n",
              "Call Blocker                                         2\n",
              "Duolingo: Learn Languages Free                       2\n",
              "Edmodo                                               2\n",
              "Video Editor                                         2\n",
              "Cardiac diagnosis (heart rate, arrhythmia)           2\n",
              "Calculator                                           2\n",
              "Period Tracker                                       2\n",
              "Ruler                                                2\n",
              "FIFA 16 Soccer                                       1\n",
              "Dr. B.R.Ambedkar                                     1\n",
              "TI-84 CE Graphing Calculator Manual TI 84            1\n",
              "HEAD TRAUMA CT EVALUATION                            1\n",
              "Stick 'Em Up 2 Starter Edition                       1\n",
              "AP Mobile 104                                        1\n",
              "Mu Mobile BR                                         1\n",
              "AAS-IN-ASIA 2018                                     1\n",
              "Smashy Road: Arena                                   1\n",
              "HTC Sense Input - FR                                 1\n",
              "InstaCam - Camera for Selfie                         1\n",
              "gCMOB                                                1\n",
              "Learn English Vocabulary - 6,000 Words               1\n",
              "CBS News                                             1\n",
              "DT Fieldlink                                         1\n",
              "Sound Recorder: Recorder & Voice Changer Free        1\n",
              "cluster.dk                                           1\n",
              "                                                    ..\n",
              "DS-82 form                                           1\n",
              "OnePlus Launcher                                     1\n",
              "BC Mobile Intro - Americas                           1\n",
              "du View                                              1\n",
              "cloudLibrary                                         1\n",
              "Contents Provider(C.P.)Explorer                      1\n",
              "FanDuel: Daily Fantasy Sports                        1\n",
              "Add-On: bq (b)                                       1\n",
              "Twitch: Livestream Multiplayer Games & Esports       1\n",
              "Belo Horizonte Map offline                           1\n",
              "Stats Royale for Clash Royale                        1\n",
              "C Programs and Reference                             1\n",
              "El Nuevo Día                                         1\n",
              "FQ METER                                             1\n",
              "e-DN - den digitala tidningen från Dagens Nyheter    1\n",
              "AT&T Call Protect                                    1\n",
              "DN Blog                                              1\n",
              "Boom Beach                                           1\n",
              "Vidroid.com.br                                       1\n",
              "Mobile Security & Antivirus                          1\n",
              "ShopSavvy Barcode & QR Scanner                       1\n",
              "Sync for reddit                                      1\n",
              "MARVEL Strike Force                                  1\n",
              "World Racers family board game                       1\n",
              "Canvas Student                                       1\n",
              "Microsoft OneDrive                                   1\n",
              "Theme For Galaxy Note FE                             1\n",
              "Firefox Focus: The privacy browser                   1\n",
              "BA 3 Banjarmasin                                     1\n",
              "My Recipes Cookbook : RecetteTek                     1\n",
              "Name: App, Length: 9660, dtype: int64"
            ]
          },
          "metadata": {
            "tags": []
          },
          "execution_count": 7
        }
      ]
    },
    {
      "cell_type": "code",
      "metadata": {
        "id": "y7vSAzGUYpLO",
        "colab_type": "code",
        "colab": {}
      },
      "source": [
        "gpstore_name_count = gpstore['App'].value_counts()\n",
        "gpstore_DiffAppSameName_list = gpstore_name_count[gpstore_name_count > 1].index.tolist()\n",
        "for appName in gpstore_DiffAppSameName_list:\n",
        "    appName_condition = (gpstore['App'] == appName)\n",
        "    gpstore.loc[appName_condition, ['App']] = gpstore[appName_condition]['App'] + ' (' + gpstore[appName_condition]['Genres'] + ')'"
      ],
      "execution_count": 0,
      "outputs": []
    },
    {
      "cell_type": "code",
      "metadata": {
        "id": "SOjYF1xW1r0t",
        "colab_type": "code",
        "colab": {
          "base_uri": "https://localhost:8080/",
          "height": 1000
        },
        "outputId": "e156cb07-a120-47b3-8546-8f83289004f9"
      },
      "source": [
        "gpstore['App'].value_counts()"
      ],
      "execution_count": 9,
      "outputs": [
        {
          "output_type": "execute_result",
          "data": {
            "text/plain": [
              "Farm Heroes Saga (Casual)                               2\n",
              "Cardiac diagnosis (heart rate, arrhythmia) (Medical)    2\n",
              "English Grammar Test (Education)                        2\n",
              "Edmodo (Education)                                      2\n",
              "Duolingo: Learn Languages Free (Education;Education)    2\n",
              "Shopee - No. 1 Online Shopping                          1\n",
              "TI-84 CE Graphing Calculator Manual TI 84               1\n",
              "Modern Counter Global Strike 3D V2                      1\n",
              "Axe Champion                                            1\n",
              "JoJo Siwa Top Hits Music                                1\n",
              "BK Travel Solutions                                     1\n",
              "Jumia online shopping                                   1\n",
              "Manga Rock - Best Manga Reader                          1\n",
              "HEAD TRAUMA CT EVALUATION                               1\n",
              "King of Avalon: Dragon Warfare                          1\n",
              "Stick 'Em Up 2 Starter Edition                          1\n",
              "AP Mobile 104                                           1\n",
              "AAS-IN-ASIA 2018                                        1\n",
              "Smashy Road: Arena                                      1\n",
              "P9 Launcher - Android™ 9.0 P Launcher Style             1\n",
              "HTC Sense Input - FR                                    1\n",
              "MY GULFPORT FL                                          1\n",
              "ES Holo Theme                                           1\n",
              "WiseBanyan - Invest For Free                            1\n",
              "Brightest Flashlight - LED Light                        1\n",
              "Learn DS [BETA]                                         1\n",
              "I Am Rich                                               1\n",
              "EU Life Explorer                                        1\n",
              "Florida Tech Mobile                                     1\n",
              "Board Game Stats: Play tracking for tabletop games      1\n",
              "                                                       ..\n",
              "C Programs and Reference                                1\n",
              "Typical EA Game                                         1\n",
              "EV Stations Hawaii                                      1\n",
              "cx-32wifi                                               1\n",
              "Moto Photo Editor                                       1\n",
              "DS-82 form                                              1\n",
              "OnePlus Launcher                                        1\n",
              "BC Mobile Intro - Americas                              1\n",
              "du View                                                 1\n",
              "cloudLibrary                                            1\n",
              "Contents Provider(C.P.)Explorer                         1\n",
              "Firefox Focus: The privacy browser                      1\n",
              "Theme For Galaxy Note FE                                1\n",
              "Microsoft OneDrive                                      1\n",
              "DN Blog                                                 1\n",
              "CreditWise from Capital One                             1\n",
              "FL House                                                1\n",
              "AK Interactive                                          1\n",
              "Axetatic - Axe Throwing Game                            1\n",
              "BTS V Kim Taehyung Wallpapers Kpop HD New               1\n",
              "AT&T Call Protect                                       1\n",
              "Boom Beach                                              1\n",
              "Canvas Student                                          1\n",
              "Vidroid.com.br                                          1\n",
              "Mobile Security & Antivirus                             1\n",
              "ShopSavvy Barcode & QR Scanner                          1\n",
              "e-DN - den digitala tidningen från Dagens Nyheter       1\n",
              "Sync for reddit                                         1\n",
              "World Racers family board game                          1\n",
              "My Recipes Cookbook : RecetteTek                        1\n",
              "Name: App, Length: 9669, dtype: int64"
            ]
          },
          "metadata": {
            "tags": []
          },
          "execution_count": 9
        }
      ]
    },
    {
      "cell_type": "code",
      "metadata": {
        "id": "83iSAmkQYzIx",
        "colab_type": "code",
        "outputId": "ceca2831-7856-499d-c9ed-26c33cd49a05",
        "colab": {
          "base_uri": "https://localhost:8080/",
          "height": 330
        }
      },
      "source": [
        "gpstore.info()"
      ],
      "execution_count": 10,
      "outputs": [
        {
          "output_type": "stream",
          "text": [
            "<class 'pandas.core.frame.DataFrame'>\n",
            "Int64Index: 9674 entries, 10472 to 6834\n",
            "Data columns (total 13 columns):\n",
            "App               9674 non-null object\n",
            "Category          9674 non-null object\n",
            "Rating            8210 non-null float64\n",
            "Reviews           9674 non-null object\n",
            "Size              9674 non-null object\n",
            "Installs          9674 non-null object\n",
            "Type              9673 non-null object\n",
            "Price             9674 non-null object\n",
            "Content Rating    9673 non-null object\n",
            "Genres            9674 non-null object\n",
            "Last Updated      9674 non-null object\n",
            "Current Ver       9666 non-null object\n",
            "Android Ver       9671 non-null object\n",
            "dtypes: float64(1), object(12)\n",
            "memory usage: 1.0+ MB\n"
          ],
          "name": "stdout"
        }
      ]
    },
    {
      "cell_type": "markdown",
      "metadata": {
        "id": "atfemAqnncFw",
        "colab_type": "text"
      },
      "source": [
        "#### Category"
      ]
    },
    {
      "cell_type": "code",
      "metadata": {
        "id": "F2S9e32sGnw0",
        "colab_type": "code",
        "outputId": "51410d17-2771-49c4-8fdf-a3059712d5fc",
        "colab": {
          "base_uri": "https://localhost:8080/",
          "height": 625
        }
      },
      "source": [
        "gpstore['Category'].value_counts(dropna=False)"
      ],
      "execution_count": 11,
      "outputs": [
        {
          "output_type": "execute_result",
          "data": {
            "text/plain": [
              "FAMILY                 1872\n",
              "GAME                    948\n",
              "TOOLS                   829\n",
              "BUSINESS                420\n",
              "MEDICAL                 397\n",
              "PERSONALIZATION         376\n",
              "PRODUCTIVITY            374\n",
              "LIFESTYLE               369\n",
              "FINANCE                 345\n",
              "SPORTS                  326\n",
              "COMMUNICATION           316\n",
              "HEALTH_AND_FITNESS      288\n",
              "PHOTOGRAPHY             281\n",
              "NEWS_AND_MAGAZINES      254\n",
              "SOCIAL                  239\n",
              "BOOKS_AND_REFERENCE     222\n",
              "TRAVEL_AND_LOCAL        219\n",
              "SHOPPING                202\n",
              "DATING                  171\n",
              "VIDEO_PLAYERS           164\n",
              "MAPS_AND_NAVIGATION     131\n",
              "FOOD_AND_DRINK          112\n",
              "EDUCATION               109\n",
              "ENTERTAINMENT            92\n",
              "AUTO_AND_VEHICLES        85\n",
              "LIBRARIES_AND_DEMO       84\n",
              "WEATHER                  79\n",
              "HOUSE_AND_HOME           74\n",
              "EVENTS                   64\n",
              "ART_AND_DESIGN           62\n",
              "PARENTING                60\n",
              "COMICS                   56\n",
              "BEAUTY                   53\n",
              "1.9                       1\n",
              "Name: Category, dtype: int64"
            ]
          },
          "metadata": {
            "tags": []
          },
          "execution_count": 11
        }
      ]
    },
    {
      "cell_type": "markdown",
      "metadata": {
        "id": "cK4yn-Y1Gnw4",
        "colab_type": "text"
      },
      "source": [
        "**Why there's '1.9' in category list**"
      ]
    },
    {
      "cell_type": "code",
      "metadata": {
        "id": "MdxHoU00Gnw5",
        "colab_type": "code",
        "outputId": "40f9b193-92ff-4518-bbb4-ce2fa2ac46e1",
        "colab": {
          "base_uri": "https://localhost:8080/",
          "height": 133
        }
      },
      "source": [
        "gpstore[gpstore['Category'] == '1.9']"
      ],
      "execution_count": 12,
      "outputs": [
        {
          "output_type": "execute_result",
          "data": {
            "text/html": [
              "<div>\n",
              "<style scoped>\n",
              "    .dataframe tbody tr th:only-of-type {\n",
              "        vertical-align: middle;\n",
              "    }\n",
              "\n",
              "    .dataframe tbody tr th {\n",
              "        vertical-align: top;\n",
              "    }\n",
              "\n",
              "    .dataframe thead th {\n",
              "        text-align: right;\n",
              "    }\n",
              "</style>\n",
              "<table border=\"1\" class=\"dataframe\">\n",
              "  <thead>\n",
              "    <tr style=\"text-align: right;\">\n",
              "      <th></th>\n",
              "      <th>App</th>\n",
              "      <th>Category</th>\n",
              "      <th>Rating</th>\n",
              "      <th>Reviews</th>\n",
              "      <th>Size</th>\n",
              "      <th>Installs</th>\n",
              "      <th>Type</th>\n",
              "      <th>Price</th>\n",
              "      <th>Content Rating</th>\n",
              "      <th>Genres</th>\n",
              "      <th>Last Updated</th>\n",
              "      <th>Current Ver</th>\n",
              "      <th>Android Ver</th>\n",
              "    </tr>\n",
              "  </thead>\n",
              "  <tbody>\n",
              "    <tr>\n",
              "      <th>10472</th>\n",
              "      <td>Life Made WI-Fi Touchscreen Photo Frame</td>\n",
              "      <td>1.9</td>\n",
              "      <td>19.0</td>\n",
              "      <td>3.0M</td>\n",
              "      <td>1,000+</td>\n",
              "      <td>Free</td>\n",
              "      <td>0</td>\n",
              "      <td>Everyone</td>\n",
              "      <td>NaN</td>\n",
              "      <td>February 11, 2018</td>\n",
              "      <td>1.0.19</td>\n",
              "      <td>4.0 and up</td>\n",
              "      <td>NaN</td>\n",
              "    </tr>\n",
              "  </tbody>\n",
              "</table>\n",
              "</div>"
            ],
            "text/plain": [
              "                                           App Category  ...  Current Ver Android Ver\n",
              "10472  Life Made WI-Fi Touchscreen Photo Frame      1.9  ...   4.0 and up         NaN\n",
              "\n",
              "[1 rows x 13 columns]"
            ]
          },
          "metadata": {
            "tags": []
          },
          "execution_count": 12
        }
      ]
    },
    {
      "cell_type": "markdown",
      "metadata": {
        "id": "vnzXNslSGnw9",
        "colab_type": "text"
      },
      "source": [
        "Look like all the columns of this row has been shifted. Anyway this row is not reliable, we prefer to dropping it to fixing it"
      ]
    },
    {
      "cell_type": "code",
      "metadata": {
        "id": "B6dftaOAGnxA",
        "colab_type": "code",
        "outputId": "6be84725-537f-4dbd-fff5-37a4b662ab52",
        "colab": {
          "base_uri": "https://localhost:8080/",
          "height": 49
        }
      },
      "source": [
        "gpstore = gpstore[gpstore['Category'] != '1.9']\n",
        "gpstore[gpstore['Category'] == '1.9']"
      ],
      "execution_count": 13,
      "outputs": [
        {
          "output_type": "execute_result",
          "data": {
            "text/html": [
              "<div>\n",
              "<style scoped>\n",
              "    .dataframe tbody tr th:only-of-type {\n",
              "        vertical-align: middle;\n",
              "    }\n",
              "\n",
              "    .dataframe tbody tr th {\n",
              "        vertical-align: top;\n",
              "    }\n",
              "\n",
              "    .dataframe thead th {\n",
              "        text-align: right;\n",
              "    }\n",
              "</style>\n",
              "<table border=\"1\" class=\"dataframe\">\n",
              "  <thead>\n",
              "    <tr style=\"text-align: right;\">\n",
              "      <th></th>\n",
              "      <th>App</th>\n",
              "      <th>Category</th>\n",
              "      <th>Rating</th>\n",
              "      <th>Reviews</th>\n",
              "      <th>Size</th>\n",
              "      <th>Installs</th>\n",
              "      <th>Type</th>\n",
              "      <th>Price</th>\n",
              "      <th>Content Rating</th>\n",
              "      <th>Genres</th>\n",
              "      <th>Last Updated</th>\n",
              "      <th>Current Ver</th>\n",
              "      <th>Android Ver</th>\n",
              "    </tr>\n",
              "  </thead>\n",
              "  <tbody>\n",
              "  </tbody>\n",
              "</table>\n",
              "</div>"
            ],
            "text/plain": [
              "Empty DataFrame\n",
              "Columns: [App, Category, Rating, Reviews, Size, Installs, Type, Price, Content Rating, Genres, Last Updated, Current Ver, Android Ver]\n",
              "Index: []"
            ]
          },
          "metadata": {
            "tags": []
          },
          "execution_count": 13
        }
      ]
    },
    {
      "cell_type": "code",
      "metadata": {
        "id": "lBDDyxBKxoqM",
        "colab_type": "code",
        "outputId": "cd78f5dd-d53e-4b96-a20c-7c5f7a36ef05",
        "colab": {
          "base_uri": "https://localhost:8080/",
          "height": 330
        }
      },
      "source": [
        "# check our dataframe again\n",
        "gpstore.info()"
      ],
      "execution_count": 14,
      "outputs": [
        {
          "output_type": "stream",
          "text": [
            "<class 'pandas.core.frame.DataFrame'>\n",
            "Int64Index: 9673 entries, 3304 to 6834\n",
            "Data columns (total 13 columns):\n",
            "App               9673 non-null object\n",
            "Category          9673 non-null object\n",
            "Rating            8209 non-null float64\n",
            "Reviews           9673 non-null object\n",
            "Size              9673 non-null object\n",
            "Installs          9673 non-null object\n",
            "Type              9672 non-null object\n",
            "Price             9673 non-null object\n",
            "Content Rating    9673 non-null object\n",
            "Genres            9673 non-null object\n",
            "Last Updated      9673 non-null object\n",
            "Current Ver       9665 non-null object\n",
            "Android Ver       9671 non-null object\n",
            "dtypes: float64(1), object(12)\n",
            "memory usage: 1.0+ MB\n"
          ],
          "name": "stdout"
        }
      ]
    },
    {
      "cell_type": "markdown",
      "metadata": {
        "id": "JmeYo9F_OzqU",
        "colab_type": "text"
      },
      "source": [
        "#### Rating"
      ]
    },
    {
      "cell_type": "code",
      "metadata": {
        "id": "2q8U94RxO4PT",
        "colab_type": "code",
        "outputId": "b3aed054-af2b-4879-d672-42f3b71fa9d7",
        "colab": {
          "base_uri": "https://localhost:8080/",
          "height": 729
        }
      },
      "source": [
        "gpstore['Rating'].value_counts(dropna=False)"
      ],
      "execution_count": 15,
      "outputs": [
        {
          "output_type": "execute_result",
          "data": {
            "text/plain": [
              "NaN    1464\n",
              "4.4     898\n",
              "4.3     897\n",
              "4.5     852\n",
              "4.2     810\n",
              "4.6     684\n",
              "4.1     624\n",
              "4.0     513\n",
              "4.7     442\n",
              "3.9     359\n",
              "3.8     287\n",
              "5.0     271\n",
              "3.7     225\n",
              "4.8     221\n",
              "3.6     166\n",
              "3.5     156\n",
              "3.4     126\n",
              "3.3     100\n",
              "4.9      86\n",
              "3.0      81\n",
              "3.1      69\n",
              "3.2      63\n",
              "2.9      45\n",
              "2.8      40\n",
              "2.6      24\n",
              "2.7      23\n",
              "2.3      20\n",
              "2.5      20\n",
              "2.4      19\n",
              "1.0      16\n",
              "2.2      14\n",
              "2.0      12\n",
              "1.9      11\n",
              "1.7       8\n",
              "1.8       8\n",
              "2.1       8\n",
              "1.6       4\n",
              "1.5       3\n",
              "1.4       3\n",
              "1.2       1\n",
              "Name: Rating, dtype: int64"
            ]
          },
          "metadata": {
            "tags": []
          },
          "execution_count": 15
        }
      ]
    },
    {
      "cell_type": "markdown",
      "metadata": {
        "id": "IVnbwZIePBcr",
        "colab_type": "text"
      },
      "source": [
        "There are so many NaN values in Rating column, so we will fill them by mean of the non-NaN values"
      ]
    },
    {
      "cell_type": "code",
      "metadata": {
        "id": "ftLJ5pQsPAaO",
        "colab_type": "code",
        "outputId": "708d06ca-05f5-423a-e4dc-1a1e2fc16943",
        "colab": {
          "base_uri": "https://localhost:8080/",
          "height": 49
        }
      },
      "source": [
        "gpstore['Rating'].fillna(round(gpstore[gpstore['Rating'].isnull() == False]['Rating'].mean(), 1), inplace = True) \n",
        "gpstore[gpstore['Rating'].isnull()]"
      ],
      "execution_count": 16,
      "outputs": [
        {
          "output_type": "execute_result",
          "data": {
            "text/html": [
              "<div>\n",
              "<style scoped>\n",
              "    .dataframe tbody tr th:only-of-type {\n",
              "        vertical-align: middle;\n",
              "    }\n",
              "\n",
              "    .dataframe tbody tr th {\n",
              "        vertical-align: top;\n",
              "    }\n",
              "\n",
              "    .dataframe thead th {\n",
              "        text-align: right;\n",
              "    }\n",
              "</style>\n",
              "<table border=\"1\" class=\"dataframe\">\n",
              "  <thead>\n",
              "    <tr style=\"text-align: right;\">\n",
              "      <th></th>\n",
              "      <th>App</th>\n",
              "      <th>Category</th>\n",
              "      <th>Rating</th>\n",
              "      <th>Reviews</th>\n",
              "      <th>Size</th>\n",
              "      <th>Installs</th>\n",
              "      <th>Type</th>\n",
              "      <th>Price</th>\n",
              "      <th>Content Rating</th>\n",
              "      <th>Genres</th>\n",
              "      <th>Last Updated</th>\n",
              "      <th>Current Ver</th>\n",
              "      <th>Android Ver</th>\n",
              "    </tr>\n",
              "  </thead>\n",
              "  <tbody>\n",
              "  </tbody>\n",
              "</table>\n",
              "</div>"
            ],
            "text/plain": [
              "Empty DataFrame\n",
              "Columns: [App, Category, Rating, Reviews, Size, Installs, Type, Price, Content Rating, Genres, Last Updated, Current Ver, Android Ver]\n",
              "Index: []"
            ]
          },
          "metadata": {
            "tags": []
          },
          "execution_count": 16
        }
      ]
    },
    {
      "cell_type": "markdown",
      "metadata": {
        "id": "b1-evFJroQDd",
        "colab_type": "text"
      },
      "source": [
        "#### Price"
      ]
    },
    {
      "cell_type": "code",
      "metadata": {
        "id": "Bj9vGXAROMtp",
        "colab_type": "code",
        "outputId": "2f84bc1b-5591-44ff-f184-1eabaaf9a90b",
        "colab": {
          "base_uri": "https://localhost:8080/",
          "height": 1000
        }
      },
      "source": [
        "gpstore['Price'].value_counts(dropna=False)"
      ],
      "execution_count": 17,
      "outputs": [
        {
          "output_type": "execute_result",
          "data": {
            "text/plain": [
              "0          8917\n",
              "$0.99       145\n",
              "$2.99       124\n",
              "$1.99        73\n",
              "$4.99        70\n",
              "$3.99        57\n",
              "$1.49        46\n",
              "$5.99        26\n",
              "$2.49        25\n",
              "$9.99        19\n",
              "$399.99      12\n",
              "$6.99        11\n",
              "$4.49         9\n",
              "$14.99        9\n",
              "$3.49         7\n",
              "$7.99         7\n",
              "$29.99        5\n",
              "$8.99         5\n",
              "$6.49         5\n",
              "$19.99        5\n",
              "$5.49         5\n",
              "$12.99        4\n",
              "$2.00         3\n",
              "$11.99        3\n",
              "$24.99        3\n",
              "$1.00         3\n",
              "$1.70         2\n",
              "$39.99        2\n",
              "$10.99        2\n",
              "$8.49         2\n",
              "           ... \n",
              "$25.99        1\n",
              "$3.90         1\n",
              "$3.95         1\n",
              "$14.00        1\n",
              "$1.50         1\n",
              "$19.90        1\n",
              "$74.99        1\n",
              "$3.04         1\n",
              "$1.75         1\n",
              "$33.99        1\n",
              "$37.99        1\n",
              "$1.04         1\n",
              "$1.96         1\n",
              "$2.59         1\n",
              "$2.56         1\n",
              "$1.59         1\n",
              "$109.99       1\n",
              "$28.99        1\n",
              "$2.95         1\n",
              "$30.99        1\n",
              "$200.00       1\n",
              "$3.08         1\n",
              "$1.29         1\n",
              "$154.99       1\n",
              "$1.61         1\n",
              "$379.99       1\n",
              "$394.99       1\n",
              "$389.99       1\n",
              "$1.26         1\n",
              "$3.02         1\n",
              "Name: Price, Length: 92, dtype: int64"
            ]
          },
          "metadata": {
            "tags": []
          },
          "execution_count": 17
        }
      ]
    },
    {
      "cell_type": "code",
      "metadata": {
        "id": "256zyjkepht4",
        "colab_type": "code",
        "outputId": "615903fc-00a6-4db8-e1ac-c75b0b5e3409",
        "colab": {
          "base_uri": "https://localhost:8080/",
          "height": 34
        }
      },
      "source": [
        "# Price column's dtype is dtype('O') which is Python type string\n",
        "gpstore.Price.dtype"
      ],
      "execution_count": 18,
      "outputs": [
        {
          "output_type": "execute_result",
          "data": {
            "text/plain": [
              "dtype('O')"
            ]
          },
          "metadata": {
            "tags": []
          },
          "execution_count": 18
        }
      ]
    },
    {
      "cell_type": "code",
      "metadata": {
        "id": "yXt1u8o8oXUf",
        "colab_type": "code",
        "outputId": "8cd00951-5e71-4253-ea1c-09e46596e0e6",
        "colab": {
          "base_uri": "https://localhost:8080/",
          "height": 121
        }
      },
      "source": [
        "gpstore[gpstore['Type']=='Paid']['Price'].head() # e.g $4.99 is a string"
      ],
      "execution_count": 19,
      "outputs": [
        {
          "output_type": "execute_result",
          "data": {
            "text/plain": [
              "4166    $3.88\n",
              "9478    $2.99\n",
              "235     $4.99\n",
              "7466    $0.99\n",
              "7792    $3.49\n",
              "Name: Price, dtype: object"
            ]
          },
          "metadata": {
            "tags": []
          },
          "execution_count": 19
        }
      ]
    },
    {
      "cell_type": "code",
      "metadata": {
        "id": "xqrgLVrOoz-K",
        "colab_type": "code",
        "outputId": "8c4a5413-bc88-4129-b73a-ad2f9774e3da",
        "colab": {
          "base_uri": "https://localhost:8080/",
          "height": 34
        }
      },
      "source": [
        "# Price in $ is the column having numeric values of Price column\n",
        "gpstore['Price in $'] = gpstore['Price'].str.lstrip('$').apply(lambda str_f: float(str_f))\n",
        "gpstore['Price in $'].dtype"
      ],
      "execution_count": 20,
      "outputs": [
        {
          "output_type": "execute_result",
          "data": {
            "text/plain": [
              "dtype('float64')"
            ]
          },
          "metadata": {
            "tags": []
          },
          "execution_count": 20
        }
      ]
    },
    {
      "cell_type": "code",
      "metadata": {
        "colab_type": "code",
        "outputId": "cd34753a-63a0-47dd-980b-7188bf18ab5e",
        "id": "WvYfty7Fxzrt",
        "colab": {
          "base_uri": "https://localhost:8080/",
          "height": 347
        }
      },
      "source": [
        "# check our dataframe again\n",
        "gpstore.info()"
      ],
      "execution_count": 21,
      "outputs": [
        {
          "output_type": "stream",
          "text": [
            "<class 'pandas.core.frame.DataFrame'>\n",
            "Int64Index: 9673 entries, 3304 to 6834\n",
            "Data columns (total 14 columns):\n",
            "App               9673 non-null object\n",
            "Category          9673 non-null object\n",
            "Rating            9673 non-null float64\n",
            "Reviews           9673 non-null object\n",
            "Size              9673 non-null object\n",
            "Installs          9673 non-null object\n",
            "Type              9672 non-null object\n",
            "Price             9673 non-null object\n",
            "Content Rating    9673 non-null object\n",
            "Genres            9673 non-null object\n",
            "Last Updated      9673 non-null object\n",
            "Current Ver       9665 non-null object\n",
            "Android Ver       9671 non-null object\n",
            "Price in $        9673 non-null float64\n",
            "dtypes: float64(2), object(12)\n",
            "memory usage: 1.1+ MB\n"
          ],
          "name": "stdout"
        }
      ]
    },
    {
      "cell_type": "markdown",
      "metadata": {
        "id": "e1DJxVdBGnxE",
        "colab_type": "text"
      },
      "source": [
        "#### Type"
      ]
    },
    {
      "cell_type": "code",
      "metadata": {
        "id": "nQj0FQngGnxF",
        "colab_type": "code",
        "outputId": "496f0db8-4473-4e13-ec88-a05096584d27",
        "colab": {
          "base_uri": "https://localhost:8080/",
          "height": 86
        }
      },
      "source": [
        "gpstore['Type'].value_counts(dropna=False)"
      ],
      "execution_count": 22,
      "outputs": [
        {
          "output_type": "execute_result",
          "data": {
            "text/plain": [
              "Free    8916\n",
              "Paid     756\n",
              "NaN        1\n",
              "Name: Type, dtype: int64"
            ]
          },
          "metadata": {
            "tags": []
          },
          "execution_count": 22
        }
      ]
    },
    {
      "cell_type": "code",
      "metadata": {
        "id": "LHm3uTmJn7fE",
        "colab_type": "code",
        "outputId": "14e359ca-8e6c-41c4-cb3c-b5707a17930b",
        "colab": {
          "base_uri": "https://localhost:8080/",
          "height": 133
        }
      },
      "source": [
        "#Type columns has 1 null\n",
        "gpstore[gpstore['Type'].isnull()]"
      ],
      "execution_count": 23,
      "outputs": [
        {
          "output_type": "execute_result",
          "data": {
            "text/html": [
              "<div>\n",
              "<style scoped>\n",
              "    .dataframe tbody tr th:only-of-type {\n",
              "        vertical-align: middle;\n",
              "    }\n",
              "\n",
              "    .dataframe tbody tr th {\n",
              "        vertical-align: top;\n",
              "    }\n",
              "\n",
              "    .dataframe thead th {\n",
              "        text-align: right;\n",
              "    }\n",
              "</style>\n",
              "<table border=\"1\" class=\"dataframe\">\n",
              "  <thead>\n",
              "    <tr style=\"text-align: right;\">\n",
              "      <th></th>\n",
              "      <th>App</th>\n",
              "      <th>Category</th>\n",
              "      <th>Rating</th>\n",
              "      <th>Reviews</th>\n",
              "      <th>Size</th>\n",
              "      <th>Installs</th>\n",
              "      <th>Type</th>\n",
              "      <th>Price</th>\n",
              "      <th>Content Rating</th>\n",
              "      <th>Genres</th>\n",
              "      <th>Last Updated</th>\n",
              "      <th>Current Ver</th>\n",
              "      <th>Android Ver</th>\n",
              "      <th>Price in $</th>\n",
              "    </tr>\n",
              "  </thead>\n",
              "  <tbody>\n",
              "    <tr>\n",
              "      <th>9148</th>\n",
              "      <td>Command &amp; Conquer: Rivals</td>\n",
              "      <td>FAMILY</td>\n",
              "      <td>4.2</td>\n",
              "      <td>0</td>\n",
              "      <td>Varies with device</td>\n",
              "      <td>0</td>\n",
              "      <td>NaN</td>\n",
              "      <td>0</td>\n",
              "      <td>Everyone 10+</td>\n",
              "      <td>Strategy</td>\n",
              "      <td>June 28, 2018</td>\n",
              "      <td>Varies with device</td>\n",
              "      <td>Varies with device</td>\n",
              "      <td>0.0</td>\n",
              "    </tr>\n",
              "  </tbody>\n",
              "</table>\n",
              "</div>"
            ],
            "text/plain": [
              "                            App Category  ...         Android Ver Price in $\n",
              "9148  Command & Conquer: Rivals   FAMILY  ...  Varies with device        0.0\n",
              "\n",
              "[1 rows x 14 columns]"
            ]
          },
          "metadata": {
            "tags": []
          },
          "execution_count": 23
        }
      ]
    },
    {
      "cell_type": "code",
      "metadata": {
        "id": "MKA_pKj2rBik",
        "colab_type": "code",
        "outputId": "ab18126e-f455-44fc-e8d3-c094ebbfdb9b",
        "colab": {
          "base_uri": "https://localhost:8080/",
          "height": 49
        }
      },
      "source": [
        "# Exclude that row\n",
        "gpstore.dropna(subset=['Type'], inplace=True)\n",
        "gpstore[gpstore['Type'].isnull()]"
      ],
      "execution_count": 24,
      "outputs": [
        {
          "output_type": "execute_result",
          "data": {
            "text/html": [
              "<div>\n",
              "<style scoped>\n",
              "    .dataframe tbody tr th:only-of-type {\n",
              "        vertical-align: middle;\n",
              "    }\n",
              "\n",
              "    .dataframe tbody tr th {\n",
              "        vertical-align: top;\n",
              "    }\n",
              "\n",
              "    .dataframe thead th {\n",
              "        text-align: right;\n",
              "    }\n",
              "</style>\n",
              "<table border=\"1\" class=\"dataframe\">\n",
              "  <thead>\n",
              "    <tr style=\"text-align: right;\">\n",
              "      <th></th>\n",
              "      <th>App</th>\n",
              "      <th>Category</th>\n",
              "      <th>Rating</th>\n",
              "      <th>Reviews</th>\n",
              "      <th>Size</th>\n",
              "      <th>Installs</th>\n",
              "      <th>Type</th>\n",
              "      <th>Price</th>\n",
              "      <th>Content Rating</th>\n",
              "      <th>Genres</th>\n",
              "      <th>Last Updated</th>\n",
              "      <th>Current Ver</th>\n",
              "      <th>Android Ver</th>\n",
              "      <th>Price in $</th>\n",
              "    </tr>\n",
              "  </thead>\n",
              "  <tbody>\n",
              "  </tbody>\n",
              "</table>\n",
              "</div>"
            ],
            "text/plain": [
              "Empty DataFrame\n",
              "Columns: [App, Category, Rating, Reviews, Size, Installs, Type, Price, Content Rating, Genres, Last Updated, Current Ver, Android Ver, Price in $]\n",
              "Index: []"
            ]
          },
          "metadata": {
            "tags": []
          },
          "execution_count": 24
        }
      ]
    },
    {
      "cell_type": "code",
      "metadata": {
        "id": "RBIOBAYJJXJq",
        "colab_type": "code",
        "outputId": "3badf083-34a6-4c8e-b375-eed419273744",
        "colab": {
          "base_uri": "https://localhost:8080/",
          "height": 49
        }
      },
      "source": [
        "# check if there are any row that Price is 0 but Type is not Free\n",
        "gpstore[(gpstore['Price'] == '0') & (gpstore['Type'] != 'Free')]"
      ],
      "execution_count": 25,
      "outputs": [
        {
          "output_type": "execute_result",
          "data": {
            "text/html": [
              "<div>\n",
              "<style scoped>\n",
              "    .dataframe tbody tr th:only-of-type {\n",
              "        vertical-align: middle;\n",
              "    }\n",
              "\n",
              "    .dataframe tbody tr th {\n",
              "        vertical-align: top;\n",
              "    }\n",
              "\n",
              "    .dataframe thead th {\n",
              "        text-align: right;\n",
              "    }\n",
              "</style>\n",
              "<table border=\"1\" class=\"dataframe\">\n",
              "  <thead>\n",
              "    <tr style=\"text-align: right;\">\n",
              "      <th></th>\n",
              "      <th>App</th>\n",
              "      <th>Category</th>\n",
              "      <th>Rating</th>\n",
              "      <th>Reviews</th>\n",
              "      <th>Size</th>\n",
              "      <th>Installs</th>\n",
              "      <th>Type</th>\n",
              "      <th>Price</th>\n",
              "      <th>Content Rating</th>\n",
              "      <th>Genres</th>\n",
              "      <th>Last Updated</th>\n",
              "      <th>Current Ver</th>\n",
              "      <th>Android Ver</th>\n",
              "      <th>Price in $</th>\n",
              "    </tr>\n",
              "  </thead>\n",
              "  <tbody>\n",
              "  </tbody>\n",
              "</table>\n",
              "</div>"
            ],
            "text/plain": [
              "Empty DataFrame\n",
              "Columns: [App, Category, Rating, Reviews, Size, Installs, Type, Price, Content Rating, Genres, Last Updated, Current Ver, Android Ver, Price in $]\n",
              "Index: []"
            ]
          },
          "metadata": {
            "tags": []
          },
          "execution_count": 25
        }
      ]
    },
    {
      "cell_type": "code",
      "metadata": {
        "id": "K9oRCxPPMUOU",
        "colab_type": "code",
        "outputId": "5479404e-9629-43d0-99d9-fe1bac821b6e",
        "colab": {
          "base_uri": "https://localhost:8080/",
          "height": 49
        }
      },
      "source": [
        "# check if there are any row that Price is greater than 0 but Type is not Paid\n",
        "gpstore[(gpstore['Price in $'] > 0) & (gpstore['Type'] != 'Paid')]"
      ],
      "execution_count": 26,
      "outputs": [
        {
          "output_type": "execute_result",
          "data": {
            "text/html": [
              "<div>\n",
              "<style scoped>\n",
              "    .dataframe tbody tr th:only-of-type {\n",
              "        vertical-align: middle;\n",
              "    }\n",
              "\n",
              "    .dataframe tbody tr th {\n",
              "        vertical-align: top;\n",
              "    }\n",
              "\n",
              "    .dataframe thead th {\n",
              "        text-align: right;\n",
              "    }\n",
              "</style>\n",
              "<table border=\"1\" class=\"dataframe\">\n",
              "  <thead>\n",
              "    <tr style=\"text-align: right;\">\n",
              "      <th></th>\n",
              "      <th>App</th>\n",
              "      <th>Category</th>\n",
              "      <th>Rating</th>\n",
              "      <th>Reviews</th>\n",
              "      <th>Size</th>\n",
              "      <th>Installs</th>\n",
              "      <th>Type</th>\n",
              "      <th>Price</th>\n",
              "      <th>Content Rating</th>\n",
              "      <th>Genres</th>\n",
              "      <th>Last Updated</th>\n",
              "      <th>Current Ver</th>\n",
              "      <th>Android Ver</th>\n",
              "      <th>Price in $</th>\n",
              "    </tr>\n",
              "  </thead>\n",
              "  <tbody>\n",
              "  </tbody>\n",
              "</table>\n",
              "</div>"
            ],
            "text/plain": [
              "Empty DataFrame\n",
              "Columns: [App, Category, Rating, Reviews, Size, Installs, Type, Price, Content Rating, Genres, Last Updated, Current Ver, Android Ver, Price in $]\n",
              "Index: []"
            ]
          },
          "metadata": {
            "tags": []
          },
          "execution_count": 26
        }
      ]
    },
    {
      "cell_type": "code",
      "metadata": {
        "colab_type": "code",
        "outputId": "6c4ec269-9eda-4e58-fa02-c5d3d5e4be22",
        "id": "qR-7D_cBx3IM",
        "colab": {
          "base_uri": "https://localhost:8080/",
          "height": 347
        }
      },
      "source": [
        "# check our dataframe again\n",
        "gpstore.info()"
      ],
      "execution_count": 27,
      "outputs": [
        {
          "output_type": "stream",
          "text": [
            "<class 'pandas.core.frame.DataFrame'>\n",
            "Int64Index: 9672 entries, 3304 to 6834\n",
            "Data columns (total 14 columns):\n",
            "App               9672 non-null object\n",
            "Category          9672 non-null object\n",
            "Rating            9672 non-null float64\n",
            "Reviews           9672 non-null object\n",
            "Size              9672 non-null object\n",
            "Installs          9672 non-null object\n",
            "Type              9672 non-null object\n",
            "Price             9672 non-null object\n",
            "Content Rating    9672 non-null object\n",
            "Genres            9672 non-null object\n",
            "Last Updated      9672 non-null object\n",
            "Current Ver       9664 non-null object\n",
            "Android Ver       9670 non-null object\n",
            "Price in $        9672 non-null float64\n",
            "dtypes: float64(2), object(12)\n",
            "memory usage: 1.1+ MB\n"
          ],
          "name": "stdout"
        }
      ]
    },
    {
      "cell_type": "markdown",
      "metadata": {
        "id": "UIn_APCOn-w5",
        "colab_type": "text"
      },
      "source": [
        "#### Content Rating"
      ]
    },
    {
      "cell_type": "code",
      "metadata": {
        "id": "vfBO6RTFGnxJ",
        "colab_type": "code",
        "outputId": "2bd25602-26aa-427a-a7f1-3b14ce56f327",
        "colab": {
          "base_uri": "https://localhost:8080/",
          "height": 0
        }
      },
      "source": [
        "gpstore['Content Rating'].value_counts(dropna=False)"
      ],
      "execution_count": 28,
      "outputs": [
        {
          "output_type": "execute_result",
          "data": {
            "text/plain": [
              "Everyone           7917\n",
              "Teen               1036\n",
              "Mature 17+          393\n",
              "Everyone 10+        321\n",
              "Adults only 18+       3\n",
              "Unrated               2\n",
              "Name: Content Rating, dtype: int64"
            ]
          },
          "metadata": {
            "tags": []
          },
          "execution_count": 28
        }
      ]
    },
    {
      "cell_type": "code",
      "metadata": {
        "id": "LMs9dWwOsqdw",
        "colab_type": "code",
        "outputId": "801cf419-ca8b-4c89-9632-e6f8a3aeb527",
        "colab": {
          "base_uri": "https://localhost:8080/",
          "height": 0
        }
      },
      "source": [
        "#Unrated can be considered as NaN value and there are only 2 row having Unrated value in Content Rating column, so we drop them =))\n",
        "gpstore = gpstore[gpstore['Content Rating'] != 'Unrated']\n",
        "gpstore['Content Rating'].value_counts(dropna=False)"
      ],
      "execution_count": 29,
      "outputs": [
        {
          "output_type": "execute_result",
          "data": {
            "text/plain": [
              "Everyone           7917\n",
              "Teen               1036\n",
              "Mature 17+          393\n",
              "Everyone 10+        321\n",
              "Adults only 18+       3\n",
              "Name: Content Rating, dtype: int64"
            ]
          },
          "metadata": {
            "tags": []
          },
          "execution_count": 29
        }
      ]
    },
    {
      "cell_type": "code",
      "metadata": {
        "colab_type": "code",
        "outputId": "048def32-8895-4895-96b0-2c8adfb6ae27",
        "id": "_E1fzClcx4kK",
        "colab": {
          "base_uri": "https://localhost:8080/",
          "height": 0
        }
      },
      "source": [
        "# check our dataframe again\n",
        "gpstore.info()"
      ],
      "execution_count": 30,
      "outputs": [
        {
          "output_type": "stream",
          "text": [
            "<class 'pandas.core.frame.DataFrame'>\n",
            "Int64Index: 9670 entries, 3304 to 6834\n",
            "Data columns (total 14 columns):\n",
            "App               9670 non-null object\n",
            "Category          9670 non-null object\n",
            "Rating            9670 non-null float64\n",
            "Reviews           9670 non-null object\n",
            "Size              9670 non-null object\n",
            "Installs          9670 non-null object\n",
            "Type              9670 non-null object\n",
            "Price             9670 non-null object\n",
            "Content Rating    9670 non-null object\n",
            "Genres            9670 non-null object\n",
            "Last Updated      9670 non-null object\n",
            "Current Ver       9662 non-null object\n",
            "Android Ver       9668 non-null object\n",
            "Price in $        9670 non-null float64\n",
            "dtypes: float64(2), object(12)\n",
            "memory usage: 1.1+ MB\n"
          ],
          "name": "stdout"
        }
      ]
    },
    {
      "cell_type": "markdown",
      "metadata": {
        "colab_type": "text",
        "id": "4yJ7GA5n17xz"
      },
      "source": [
        "#### Reviews / Genres / Last Updated\n",
        "These columns don't seem to need  cleaning"
      ]
    },
    {
      "cell_type": "code",
      "metadata": {
        "colab_type": "code",
        "outputId": "e0eca3b2-e7b3-437c-e52c-f2e3dc6106a7",
        "id": "H2ZqjWOv17x4",
        "colab": {
          "base_uri": "https://localhost:8080/",
          "height": 0
        }
      },
      "source": [
        "gpstore['Reviews'].value_counts(dropna=False)"
      ],
      "execution_count": 31,
      "outputs": [
        {
          "output_type": "execute_result",
          "data": {
            "text/plain": [
              "0          592\n",
              "1          271\n",
              "2          213\n",
              "3          170\n",
              "4          137\n",
              "5          108\n",
              "6           94\n",
              "7           88\n",
              "8           72\n",
              "9           64\n",
              "10          63\n",
              "12          58\n",
              "11          52\n",
              "13          49\n",
              "17          47\n",
              "19          41\n",
              "14          41\n",
              "20          35\n",
              "16          35\n",
              "21          33\n",
              "25          30\n",
              "30          30\n",
              "15          30\n",
              "24          30\n",
              "38          29\n",
              "18          27\n",
              "22          26\n",
              "27          25\n",
              "23          25\n",
              "33          24\n",
              "          ... \n",
              "6466641      1\n",
              "249919       1\n",
              "13565        1\n",
              "666          1\n",
              "275048       1\n",
              "5886         1\n",
              "1500         1\n",
              "3755         1\n",
              "24729        1\n",
              "139258       1\n",
              "10369        1\n",
              "6200         1\n",
              "531          1\n",
              "9443         1\n",
              "14356        1\n",
              "66321        1\n",
              "348962       1\n",
              "5208         1\n",
              "16073        1\n",
              "194216       1\n",
              "18893        1\n",
              "6577         1\n",
              "1493         1\n",
              "226453       1\n",
              "4334         1\n",
              "38207        1\n",
              "819774       1\n",
              "356          1\n",
              "3845         1\n",
              "436615       1\n",
              "Name: Reviews, Length: 5338, dtype: int64"
            ]
          },
          "metadata": {
            "tags": []
          },
          "execution_count": 31
        }
      ]
    },
    {
      "cell_type": "code",
      "metadata": {
        "colab_type": "code",
        "outputId": "0e25e362-0630-4fe1-d2e1-ee607dd4d140",
        "id": "iQBSHQ-52UaQ",
        "colab": {
          "base_uri": "https://localhost:8080/",
          "height": 0
        }
      },
      "source": [
        "gpstore['Genres'].value_counts(dropna=False)"
      ],
      "execution_count": 32,
      "outputs": [
        {
          "output_type": "execute_result",
          "data": {
            "text/plain": [
              "Tools                                  827\n",
              "Entertainment                          560\n",
              "Education                              512\n",
              "Business                               420\n",
              "Medical                                397\n",
              "Personalization                        376\n",
              "Productivity                           374\n",
              "Lifestyle                              368\n",
              "Finance                                345\n",
              "Sports                                 331\n",
              "Communication                          316\n",
              "Action                                 299\n",
              "Health & Fitness                       288\n",
              "Photography                            281\n",
              "News & Magazines                       254\n",
              "Social                                 239\n",
              "Books & Reference                      222\n",
              "Travel & Local                         218\n",
              "Shopping                               202\n",
              "Simulation                             193\n",
              "Arcade                                 185\n",
              "Dating                                 171\n",
              "Casual                                 166\n",
              "Video Players & Editors                163\n",
              "Maps & Navigation                      131\n",
              "Puzzle                                 119\n",
              "Food & Drink                           112\n",
              "Role Playing                           105\n",
              "Strategy                                94\n",
              "Racing                                  91\n",
              "                                      ... \n",
              "Strategy;Action & Adventure              2\n",
              "Card;Action & Adventure                  2\n",
              "Role Playing;Education                   1\n",
              "Video Players & Editors;Creativity       1\n",
              "Trivia;Education                         1\n",
              "Comics;Creativity                        1\n",
              "Casual;Music & Video                     1\n",
              "Art & Design;Action & Adventure          1\n",
              "Adventure;Education                      1\n",
              "Racing;Pretend Play                      1\n",
              "Lifestyle;Pretend Play                   1\n",
              "Card;Brain Games                         1\n",
              "Tools;Education                          1\n",
              "Role Playing;Brain Games                 1\n",
              "Lifestyle;Education                      1\n",
              "Music & Audio;Music & Video              1\n",
              "Puzzle;Education                         1\n",
              "Communication;Creativity                 1\n",
              "Books & Reference;Creativity             1\n",
              "Adventure;Brain Games                    1\n",
              "Art & Design;Pretend Play                1\n",
              "Strategy;Education                       1\n",
              "Parenting;Brain Games                    1\n",
              "Board;Pretend Play                       1\n",
              "Entertainment;Education                  1\n",
              "Strategy;Creativity                      1\n",
              "Health & Fitness;Action & Adventure      1\n",
              "Arcade;Pretend Play                      1\n",
              "Travel & Local;Action & Adventure        1\n",
              "Health & Fitness;Education               1\n",
              "Name: Genres, Length: 119, dtype: int64"
            ]
          },
          "metadata": {
            "tags": []
          },
          "execution_count": 32
        }
      ]
    },
    {
      "cell_type": "code",
      "metadata": {
        "colab_type": "code",
        "outputId": "2ab5cfe8-750a-41b2-881e-02cb266b95b4",
        "id": "CNg2iiST2XH3",
        "colab": {
          "base_uri": "https://localhost:8080/",
          "height": 0
        }
      },
      "source": [
        "gpstore['Last Updated'].value_counts(dropna=False)"
      ],
      "execution_count": 33,
      "outputs": [
        {
          "output_type": "execute_result",
          "data": {
            "text/plain": [
              "August 3, 2018        252\n",
              "August 2, 2018        229\n",
              "August 1, 2018        208\n",
              "July 31, 2018         206\n",
              "July 30, 2018         162\n",
              "July 26, 2018         136\n",
              "July 25, 2018         129\n",
              "July 27, 2018         121\n",
              "July 24, 2018         120\n",
              "July 23, 2018         111\n",
              "August 6, 2018        110\n",
              "July 18, 2018          99\n",
              "July 19, 2018          98\n",
              "July 16, 2018          92\n",
              "July 11, 2018          88\n",
              "August 4, 2018         85\n",
              "July 12, 2018          84\n",
              "July 17, 2018          81\n",
              "July 9, 2018           80\n",
              "July 3, 2018           79\n",
              "July 13, 2018          74\n",
              "July 5, 2018           72\n",
              "July 20, 2018          72\n",
              "May 24, 2018           59\n",
              "June 26, 2018          55\n",
              "June 25, 2018          53\n",
              "July 6, 2018           52\n",
              "June 27, 2018          51\n",
              "June 13, 2018          50\n",
              "July 4, 2018           49\n",
              "                     ... \n",
              "February 27, 2015       1\n",
              "November 2, 2015        1\n",
              "October 11, 2013        1\n",
              "June 17, 2012           1\n",
              "November 26, 2012       1\n",
              "January 20, 2014        1\n",
              "September 11, 2016      1\n",
              "June 16, 2015           1\n",
              "November 5, 2014        1\n",
              "May 1, 2015             1\n",
              "April 10, 2017          1\n",
              "August 17, 2014         1\n",
              "March 26, 2015          1\n",
              "April 2, 2017           1\n",
              "August 20, 2016         1\n",
              "February 3, 2013        1\n",
              "January 23, 2014        1\n",
              "April 8, 2016           1\n",
              "February 10, 2017       1\n",
              "August 2, 2014          1\n",
              "September 16, 2014      1\n",
              "November 24, 2016       1\n",
              "November 26, 2016       1\n",
              "November 13, 2014       1\n",
              "April 23, 2014          1\n",
              "June 26, 2011           1\n",
              "September 4, 2013       1\n",
              "May 12, 2011            1\n",
              "October 11, 2015        1\n",
              "December 13, 2014       1\n",
              "Name: Last Updated, Length: 1376, dtype: int64"
            ]
          },
          "metadata": {
            "tags": []
          },
          "execution_count": 33
        }
      ]
    },
    {
      "cell_type": "markdown",
      "metadata": {
        "id": "GgY4sCa1QlVn",
        "colab_type": "text"
      },
      "source": [
        "#### Current Ver\n"
      ]
    },
    {
      "cell_type": "code",
      "metadata": {
        "id": "QVYDCNkEQrxX",
        "colab_type": "code",
        "outputId": "2de51e04-63be-401b-c6a3-ef5270dccfad",
        "colab": {
          "base_uri": "https://localhost:8080/",
          "height": 0
        }
      },
      "source": [
        "gpstore[gpstore['Current Ver'].isnull()]"
      ],
      "execution_count": 34,
      "outputs": [
        {
          "output_type": "execute_result",
          "data": {
            "text/html": [
              "<div>\n",
              "<style scoped>\n",
              "    .dataframe tbody tr th:only-of-type {\n",
              "        vertical-align: middle;\n",
              "    }\n",
              "\n",
              "    .dataframe tbody tr th {\n",
              "        vertical-align: top;\n",
              "    }\n",
              "\n",
              "    .dataframe thead th {\n",
              "        text-align: right;\n",
              "    }\n",
              "</style>\n",
              "<table border=\"1\" class=\"dataframe\">\n",
              "  <thead>\n",
              "    <tr style=\"text-align: right;\">\n",
              "      <th></th>\n",
              "      <th>App</th>\n",
              "      <th>Category</th>\n",
              "      <th>Rating</th>\n",
              "      <th>Reviews</th>\n",
              "      <th>Size</th>\n",
              "      <th>Installs</th>\n",
              "      <th>Type</th>\n",
              "      <th>Price</th>\n",
              "      <th>Content Rating</th>\n",
              "      <th>Genres</th>\n",
              "      <th>Last Updated</th>\n",
              "      <th>Current Ver</th>\n",
              "      <th>Android Ver</th>\n",
              "      <th>Price in $</th>\n",
              "    </tr>\n",
              "  </thead>\n",
              "  <tbody>\n",
              "    <tr>\n",
              "      <th>7333</th>\n",
              "      <td>Dots puzzle</td>\n",
              "      <td>FAMILY</td>\n",
              "      <td>4.0</td>\n",
              "      <td>179</td>\n",
              "      <td>14M</td>\n",
              "      <td>50,000+</td>\n",
              "      <td>Paid</td>\n",
              "      <td>$0.99</td>\n",
              "      <td>Everyone</td>\n",
              "      <td>Puzzle</td>\n",
              "      <td>April 18, 2018</td>\n",
              "      <td>NaN</td>\n",
              "      <td>4.0 and up</td>\n",
              "      <td>0.99</td>\n",
              "    </tr>\n",
              "    <tr>\n",
              "      <th>7407</th>\n",
              "      <td>Calculate My IQ</td>\n",
              "      <td>FAMILY</td>\n",
              "      <td>4.2</td>\n",
              "      <td>44</td>\n",
              "      <td>7.2M</td>\n",
              "      <td>10,000+</td>\n",
              "      <td>Free</td>\n",
              "      <td>0</td>\n",
              "      <td>Everyone</td>\n",
              "      <td>Entertainment</td>\n",
              "      <td>April 3, 2017</td>\n",
              "      <td>NaN</td>\n",
              "      <td>2.3 and up</td>\n",
              "      <td>0.00</td>\n",
              "    </tr>\n",
              "    <tr>\n",
              "      <th>1553</th>\n",
              "      <td>Market Update Helper</td>\n",
              "      <td>LIBRARIES_AND_DEMO</td>\n",
              "      <td>4.1</td>\n",
              "      <td>20145</td>\n",
              "      <td>11k</td>\n",
              "      <td>1,000,000+</td>\n",
              "      <td>Free</td>\n",
              "      <td>0</td>\n",
              "      <td>Everyone</td>\n",
              "      <td>Libraries &amp; Demo</td>\n",
              "      <td>February 12, 2013</td>\n",
              "      <td>NaN</td>\n",
              "      <td>1.5 and up</td>\n",
              "      <td>0.00</td>\n",
              "    </tr>\n",
              "    <tr>\n",
              "      <th>10342</th>\n",
              "      <td>La Fe de Jesus</td>\n",
              "      <td>BOOKS_AND_REFERENCE</td>\n",
              "      <td>4.2</td>\n",
              "      <td>8</td>\n",
              "      <td>658k</td>\n",
              "      <td>1,000+</td>\n",
              "      <td>Free</td>\n",
              "      <td>0</td>\n",
              "      <td>Everyone</td>\n",
              "      <td>Books &amp; Reference</td>\n",
              "      <td>January 31, 2017</td>\n",
              "      <td>NaN</td>\n",
              "      <td>3.0 and up</td>\n",
              "      <td>0.00</td>\n",
              "    </tr>\n",
              "    <tr>\n",
              "      <th>7730</th>\n",
              "      <td>UFO-CQ</td>\n",
              "      <td>TOOLS</td>\n",
              "      <td>4.2</td>\n",
              "      <td>1</td>\n",
              "      <td>237k</td>\n",
              "      <td>10+</td>\n",
              "      <td>Paid</td>\n",
              "      <td>$0.99</td>\n",
              "      <td>Everyone</td>\n",
              "      <td>Tools</td>\n",
              "      <td>July 4, 2016</td>\n",
              "      <td>NaN</td>\n",
              "      <td>2.0 and up</td>\n",
              "      <td>0.99</td>\n",
              "    </tr>\n",
              "    <tr>\n",
              "      <th>15</th>\n",
              "      <td>Learn To Draw Kawaii Characters</td>\n",
              "      <td>ART_AND_DESIGN</td>\n",
              "      <td>3.2</td>\n",
              "      <td>55</td>\n",
              "      <td>2.7M</td>\n",
              "      <td>5,000+</td>\n",
              "      <td>Free</td>\n",
              "      <td>0</td>\n",
              "      <td>Everyone</td>\n",
              "      <td>Art &amp; Design</td>\n",
              "      <td>June 6, 2018</td>\n",
              "      <td>NaN</td>\n",
              "      <td>4.2 and up</td>\n",
              "      <td>0.00</td>\n",
              "    </tr>\n",
              "    <tr>\n",
              "      <th>6322</th>\n",
              "      <td>Virtual DJ Sound Mixer</td>\n",
              "      <td>TOOLS</td>\n",
              "      <td>4.2</td>\n",
              "      <td>4010</td>\n",
              "      <td>8.7M</td>\n",
              "      <td>500,000+</td>\n",
              "      <td>Free</td>\n",
              "      <td>0</td>\n",
              "      <td>Everyone</td>\n",
              "      <td>Tools</td>\n",
              "      <td>May 10, 2017</td>\n",
              "      <td>NaN</td>\n",
              "      <td>4.0 and up</td>\n",
              "      <td>0.00</td>\n",
              "    </tr>\n",
              "    <tr>\n",
              "      <th>6803</th>\n",
              "      <td>BT Master</td>\n",
              "      <td>FAMILY</td>\n",
              "      <td>4.2</td>\n",
              "      <td>0</td>\n",
              "      <td>222k</td>\n",
              "      <td>100+</td>\n",
              "      <td>Free</td>\n",
              "      <td>0</td>\n",
              "      <td>Everyone</td>\n",
              "      <td>Education</td>\n",
              "      <td>November 6, 2016</td>\n",
              "      <td>NaN</td>\n",
              "      <td>1.6 and up</td>\n",
              "      <td>0.00</td>\n",
              "    </tr>\n",
              "  </tbody>\n",
              "</table>\n",
              "</div>"
            ],
            "text/plain": [
              "                                   App  ... Price in $\n",
              "7333                       Dots puzzle  ...       0.99\n",
              "7407                   Calculate My IQ  ...       0.00\n",
              "1553              Market Update Helper  ...       0.00\n",
              "10342                   La Fe de Jesus  ...       0.00\n",
              "7730                            UFO-CQ  ...       0.99\n",
              "15     Learn To Draw Kawaii Characters  ...       0.00\n",
              "6322            Virtual DJ Sound Mixer  ...       0.00\n",
              "6803                         BT Master  ...       0.00\n",
              "\n",
              "[8 rows x 14 columns]"
            ]
          },
          "metadata": {
            "tags": []
          },
          "execution_count": 34
        }
      ]
    },
    {
      "cell_type": "code",
      "metadata": {
        "id": "etnh1jklRLLB",
        "colab_type": "code",
        "colab": {}
      },
      "source": [
        "# fill NaN value in Current Ver column with 1.0.0\n",
        "gpstore['Current Ver'].fillna('1.0.0', inplace=True)"
      ],
      "execution_count": 0,
      "outputs": []
    },
    {
      "cell_type": "markdown",
      "metadata": {
        "id": "KhUExrbOvhaE",
        "colab_type": "text"
      },
      "source": [
        "#### Android Ver"
      ]
    },
    {
      "cell_type": "code",
      "metadata": {
        "id": "RQ3J04RvGnxR",
        "colab_type": "code",
        "outputId": "9375efb1-09b5-4f20-8edc-00c3c8d04654",
        "colab": {
          "base_uri": "https://localhost:8080/",
          "height": 0
        }
      },
      "source": [
        "gpstore['Android Ver'].value_counts(dropna=False)"
      ],
      "execution_count": 36,
      "outputs": [
        {
          "output_type": "execute_result",
          "data": {
            "text/plain": [
              "4.1 and up            2204\n",
              "4.0.3 and up          1397\n",
              "4.0 and up            1288\n",
              "Varies with device     991\n",
              "4.4 and up             818\n",
              "2.3 and up             619\n",
              "5.0 and up             512\n",
              "4.2 and up             372\n",
              "2.3.3 and up           272\n",
              "2.2 and up             239\n",
              "3.0 and up             231\n",
              "4.3 and up             222\n",
              "2.1 and up             133\n",
              "1.6 and up             116\n",
              "6.0 and up              54\n",
              "7.0 and up              42\n",
              "3.2 and up              36\n",
              "2.0 and up              32\n",
              "5.1 and up              22\n",
              "1.5 and up              20\n",
              "4.4W and up             11\n",
              "3.1 and up              10\n",
              "2.0.1 and up             7\n",
              "8.0 and up               6\n",
              "7.1 and up               3\n",
              "4.0.3 - 7.1.1            2\n",
              "NaN                      2\n",
              "1.0 and up               2\n",
              "5.0 - 8.0                2\n",
              "4.1 - 7.1.1              1\n",
              "2.2 - 7.1.1              1\n",
              "7.0 - 7.1.1              1\n",
              "5.0 - 6.0                1\n",
              "5.0 - 7.1.1              1\n",
              "Name: Android Ver, dtype: int64"
            ]
          },
          "metadata": {
            "tags": []
          },
          "execution_count": 36
        }
      ]
    },
    {
      "cell_type": "code",
      "metadata": {
        "id": "8In_5hGCASuS",
        "colab_type": "code",
        "outputId": "3310f22d-b50e-4717-90f2-1b0ee8636a34",
        "colab": {
          "base_uri": "https://localhost:8080/",
          "height": 0
        }
      },
      "source": [
        "# Drop 2 NaN value\n",
        "gpstore.dropna(subset=['Android Ver'], inplace=True)\n",
        "gpstore[gpstore['Android Ver'].isnull()]"
      ],
      "execution_count": 37,
      "outputs": [
        {
          "output_type": "execute_result",
          "data": {
            "text/html": [
              "<div>\n",
              "<style scoped>\n",
              "    .dataframe tbody tr th:only-of-type {\n",
              "        vertical-align: middle;\n",
              "    }\n",
              "\n",
              "    .dataframe tbody tr th {\n",
              "        vertical-align: top;\n",
              "    }\n",
              "\n",
              "    .dataframe thead th {\n",
              "        text-align: right;\n",
              "    }\n",
              "</style>\n",
              "<table border=\"1\" class=\"dataframe\">\n",
              "  <thead>\n",
              "    <tr style=\"text-align: right;\">\n",
              "      <th></th>\n",
              "      <th>App</th>\n",
              "      <th>Category</th>\n",
              "      <th>Rating</th>\n",
              "      <th>Reviews</th>\n",
              "      <th>Size</th>\n",
              "      <th>Installs</th>\n",
              "      <th>Type</th>\n",
              "      <th>Price</th>\n",
              "      <th>Content Rating</th>\n",
              "      <th>Genres</th>\n",
              "      <th>Last Updated</th>\n",
              "      <th>Current Ver</th>\n",
              "      <th>Android Ver</th>\n",
              "      <th>Price in $</th>\n",
              "    </tr>\n",
              "  </thead>\n",
              "  <tbody>\n",
              "  </tbody>\n",
              "</table>\n",
              "</div>"
            ],
            "text/plain": [
              "Empty DataFrame\n",
              "Columns: [App, Category, Rating, Reviews, Size, Installs, Type, Price, Content Rating, Genres, Last Updated, Current Ver, Android Ver, Price in $]\n",
              "Index: []"
            ]
          },
          "metadata": {
            "tags": []
          },
          "execution_count": 37
        }
      ]
    },
    {
      "cell_type": "code",
      "metadata": {
        "id": "6j8r8Vb0lbKL",
        "colab_type": "code",
        "outputId": "b06f4e03-f0ba-4944-c4db-2f25b3bef74f",
        "colab": {
          "base_uri": "https://localhost:8080/",
          "height": 0
        }
      },
      "source": [
        "# Standardize Android Ver: X.X.X - Y.Y.Y\n",
        "regex = ' [\\w+]+(?:\\.\\w+) '\n",
        "gpstore['Android Ver'] = \" \" + gpstore['Android Ver'] + \" \"\n",
        "\n",
        "gpstore['Android Ver'] = gpstore['Android Ver'].str.replace('and', '-')\n",
        "gpstore['Android Ver'] = gpstore['Android Ver'].str.replace('up', 'latest')\n",
        "\n",
        "import re\n",
        "def append_by_regex(text):\n",
        "  search_value = re.search(regex, text)\n",
        "  while search_value:\n",
        "    pos = search_value.end()\n",
        "    text = text[:pos].rstrip() + \".0 \" + text[pos:] \n",
        "    search_value = re.search(regex, text)\n",
        "  return text\n",
        "\n",
        "gpstore['Android Ver'] = gpstore['Android Ver'].apply(append_by_regex)\n",
        "gpstore['Android Ver'] = gpstore['Android Ver'].str.strip()\n",
        "gpstore['Android Ver'].value_counts(dropna=False)"
      ],
      "execution_count": 38,
      "outputs": [
        {
          "output_type": "execute_result",
          "data": {
            "text/plain": [
              "4.1.0 - latest        2204\n",
              "4.0.3 - latest        1397\n",
              "4.0.0 - latest        1288\n",
              "Varies with device     991\n",
              "4.4.0 - latest         818\n",
              "2.3.0 - latest         619\n",
              "5.0.0 - latest         512\n",
              "4.2.0 - latest         372\n",
              "2.3.3 - latest         272\n",
              "2.2.0 - latest         239\n",
              "3.0.0 - latest         231\n",
              "4.3.0 - latest         222\n",
              "2.1.0 - latest         133\n",
              "1.6.0 - latest         116\n",
              "6.0.0 - latest          54\n",
              "7.0.0 - latest          42\n",
              "3.2.0 - latest          36\n",
              "2.0.0 - latest          32\n",
              "5.1.0 - latest          22\n",
              "1.5.0 - latest          20\n",
              "4.4W.0 - latest         11\n",
              "3.1.0 - latest          10\n",
              "2.0.1 - latest           7\n",
              "8.0.0 - latest           6\n",
              "7.1.0 - latest           3\n",
              "5.0.0 - 8.0.0            2\n",
              "4.0.3 - 7.1.1            2\n",
              "1.0.0 - latest           2\n",
              "5.0.0 - 7.1.1            1\n",
              "5.0.0 - 6.0.0            1\n",
              "4.1.0 - 7.1.1            1\n",
              "2.2.0 - 7.1.1            1\n",
              "7.0.0 - 7.1.1            1\n",
              "Name: Android Ver, dtype: int64"
            ]
          },
          "metadata": {
            "tags": []
          },
          "execution_count": 38
        }
      ]
    },
    {
      "cell_type": "code",
      "metadata": {
        "colab_type": "code",
        "outputId": "9e05ce3e-73e6-4518-87bc-15de384ad9bb",
        "id": "7RNltFtJXETG",
        "colab": {
          "base_uri": "https://localhost:8080/",
          "height": 0
        }
      },
      "source": [
        "# Handle \"Varies with device\"\n",
        "\n",
        "# split each value in Android Ver column into two columns Android MinVer and Android MaxVer\n",
        "gpstore['Android MinVer'] = gpstore['Android Ver'].str.split('-').str[0].str.strip()\n",
        "gpstore['Android MaxVer'] = gpstore['Android Ver'].str.split('-').str[1].str.strip()\n",
        "\n",
        "# When there's not \"-\" in Android Ver string (in case Android Ver value is \"Varies with device\")\n",
        "# Android MinVer values will be assigned with \"Varies with device\", so we re-assign theses values with NaN\n",
        "gpstore['Android MinVer'].replace('Varies with device', np.NaN, inplace=True)\n",
        "\n",
        "# Fillna in Android MinVer with min of non-null values in Android MinVer\n",
        "gpstore['Android MinVer'].fillna(gpstore['Android MinVer'].dropna().min(), inplace=True)\n",
        "\n",
        "# Fillna in Android MaxVer with max of non-null values in Android MaxVer\n",
        "gpstore['Android MaxVer'].fillna(gpstore['Android MaxVer'].dropna().max(), inplace=True)\n",
        "\n",
        "# Replace \"- latest\" with and up to restore the original form of Android Ver\n",
        "gpstore['Android Ver'] = gpstore['Android Ver'].str.replace('- latest', \"and up\")\n",
        "gpstore.head()"
      ],
      "execution_count": 39,
      "outputs": [
        {
          "output_type": "execute_result",
          "data": {
            "text/html": [
              "<div>\n",
              "<style scoped>\n",
              "    .dataframe tbody tr th:only-of-type {\n",
              "        vertical-align: middle;\n",
              "    }\n",
              "\n",
              "    .dataframe tbody tr th {\n",
              "        vertical-align: top;\n",
              "    }\n",
              "\n",
              "    .dataframe thead th {\n",
              "        text-align: right;\n",
              "    }\n",
              "</style>\n",
              "<table border=\"1\" class=\"dataframe\">\n",
              "  <thead>\n",
              "    <tr style=\"text-align: right;\">\n",
              "      <th></th>\n",
              "      <th>App</th>\n",
              "      <th>Category</th>\n",
              "      <th>Rating</th>\n",
              "      <th>Reviews</th>\n",
              "      <th>Size</th>\n",
              "      <th>Installs</th>\n",
              "      <th>Type</th>\n",
              "      <th>Price</th>\n",
              "      <th>Content Rating</th>\n",
              "      <th>Genres</th>\n",
              "      <th>Last Updated</th>\n",
              "      <th>Current Ver</th>\n",
              "      <th>Android Ver</th>\n",
              "      <th>Price in $</th>\n",
              "      <th>Android MinVer</th>\n",
              "      <th>Android MaxVer</th>\n",
              "    </tr>\n",
              "  </thead>\n",
              "  <tbody>\n",
              "    <tr>\n",
              "      <th>3304</th>\n",
              "      <td>Graphing Calculator</td>\n",
              "      <td>TOOLS</td>\n",
              "      <td>3.9</td>\n",
              "      <td>12388</td>\n",
              "      <td>5.3M</td>\n",
              "      <td>1,000,000+</td>\n",
              "      <td>Free</td>\n",
              "      <td>0</td>\n",
              "      <td>Everyone</td>\n",
              "      <td>Tools</td>\n",
              "      <td>April 1, 2016</td>\n",
              "      <td>1.17</td>\n",
              "      <td>2.3.0 and up</td>\n",
              "      <td>0.0</td>\n",
              "      <td>2.3.0</td>\n",
              "      <td>latest</td>\n",
              "    </tr>\n",
              "    <tr>\n",
              "      <th>8901</th>\n",
              "      <td>DU Browser—Browse fast &amp; fun</td>\n",
              "      <td>COMMUNICATION</td>\n",
              "      <td>4.3</td>\n",
              "      <td>1133539</td>\n",
              "      <td>4.7M</td>\n",
              "      <td>10,000,000+</td>\n",
              "      <td>Free</td>\n",
              "      <td>0</td>\n",
              "      <td>Everyone</td>\n",
              "      <td>Communication</td>\n",
              "      <td>April 1, 2016</td>\n",
              "      <td>6.4.0.4</td>\n",
              "      <td>4.0.0 and up</td>\n",
              "      <td>0.0</td>\n",
              "      <td>4.0.0</td>\n",
              "      <td>latest</td>\n",
              "    </tr>\n",
              "    <tr>\n",
              "      <th>9116</th>\n",
              "      <td>PHARMAGUIDE (DZ)</td>\n",
              "      <td>HEALTH_AND_FITNESS</td>\n",
              "      <td>4.1</td>\n",
              "      <td>131</td>\n",
              "      <td>3.4M</td>\n",
              "      <td>5,000+</td>\n",
              "      <td>Free</td>\n",
              "      <td>0</td>\n",
              "      <td>Everyone</td>\n",
              "      <td>Health &amp; Fitness</td>\n",
              "      <td>April 1, 2016</td>\n",
              "      <td>1.06</td>\n",
              "      <td>1.6.0 and up</td>\n",
              "      <td>0.0</td>\n",
              "      <td>1.6.0</td>\n",
              "      <td>latest</td>\n",
              "    </tr>\n",
              "    <tr>\n",
              "      <th>10589</th>\n",
              "      <td>The Florida Trail Guide</td>\n",
              "      <td>TRAVEL_AND_LOCAL</td>\n",
              "      <td>4.3</td>\n",
              "      <td>100</td>\n",
              "      <td>13M</td>\n",
              "      <td>5,000+</td>\n",
              "      <td>Free</td>\n",
              "      <td>0</td>\n",
              "      <td>Everyone</td>\n",
              "      <td>Travel &amp; Local</td>\n",
              "      <td>April 1, 2017</td>\n",
              "      <td>6.0.18</td>\n",
              "      <td>4.1.0 and up</td>\n",
              "      <td>0.0</td>\n",
              "      <td>4.1.0</td>\n",
              "      <td>latest</td>\n",
              "    </tr>\n",
              "    <tr>\n",
              "      <th>7113</th>\n",
              "      <td>CBRadioTab</td>\n",
              "      <td>TOOLS</td>\n",
              "      <td>3.9</td>\n",
              "      <td>127</td>\n",
              "      <td>1.5M</td>\n",
              "      <td>50,000+</td>\n",
              "      <td>Free</td>\n",
              "      <td>0</td>\n",
              "      <td>Everyone</td>\n",
              "      <td>Tools</td>\n",
              "      <td>April 1, 2017</td>\n",
              "      <td>1.0</td>\n",
              "      <td>3.0.0 and up</td>\n",
              "      <td>0.0</td>\n",
              "      <td>3.0.0</td>\n",
              "      <td>latest</td>\n",
              "    </tr>\n",
              "  </tbody>\n",
              "</table>\n",
              "</div>"
            ],
            "text/plain": [
              "                                App  ... Android MaxVer\n",
              "3304            Graphing Calculator  ...         latest\n",
              "8901   DU Browser—Browse fast & fun  ...         latest\n",
              "9116               PHARMAGUIDE (DZ)  ...         latest\n",
              "10589       The Florida Trail Guide  ...         latest\n",
              "7113                     CBRadioTab  ...         latest\n",
              "\n",
              "[5 rows x 16 columns]"
            ]
          },
          "metadata": {
            "tags": []
          },
          "execution_count": 39
        }
      ]
    },
    {
      "cell_type": "code",
      "metadata": {
        "id": "7djesguKCKZO",
        "colab_type": "code",
        "outputId": "df0ef4c9-af57-47ac-8f38-1ece45b1fc94",
        "colab": {
          "base_uri": "https://localhost:8080/",
          "height": 0
        }
      },
      "source": [
        "# check our dataframe\n",
        "gpstore.info()"
      ],
      "execution_count": 40,
      "outputs": [
        {
          "output_type": "stream",
          "text": [
            "<class 'pandas.core.frame.DataFrame'>\n",
            "Int64Index: 9668 entries, 3304 to 6834\n",
            "Data columns (total 16 columns):\n",
            "App               9668 non-null object\n",
            "Category          9668 non-null object\n",
            "Rating            9668 non-null float64\n",
            "Reviews           9668 non-null object\n",
            "Size              9668 non-null object\n",
            "Installs          9668 non-null object\n",
            "Type              9668 non-null object\n",
            "Price             9668 non-null object\n",
            "Content Rating    9668 non-null object\n",
            "Genres            9668 non-null object\n",
            "Last Updated      9668 non-null object\n",
            "Current Ver       9668 non-null object\n",
            "Android Ver       9668 non-null object\n",
            "Price in $        9668 non-null float64\n",
            "Android MinVer    9668 non-null object\n",
            "Android MaxVer    9668 non-null object\n",
            "dtypes: float64(2), object(14)\n",
            "memory usage: 1.3+ MB\n"
          ],
          "name": "stdout"
        }
      ]
    },
    {
      "cell_type": "markdown",
      "metadata": {
        "id": "SmU5hkAh9sQ7",
        "colab_type": "text"
      },
      "source": [
        "#### Install"
      ]
    },
    {
      "cell_type": "code",
      "metadata": {
        "id": "k4qjr9sZCIpf",
        "colab_type": "code",
        "outputId": "b8608834-cc5c-4223-bc79-9531b5ea7679",
        "colab": {
          "base_uri": "https://localhost:8080/",
          "height": 0
        }
      },
      "source": [
        "gpstore['Installs'].value_counts()"
      ],
      "execution_count": 41,
      "outputs": [
        {
          "output_type": "execute_result",
          "data": {
            "text/plain": [
              "1,000,000+        1420\n",
              "100,000+          1115\n",
              "10,000+           1030\n",
              "10,000,000+        937\n",
              "1,000+             888\n",
              "100+               710\n",
              "5,000,000+         610\n",
              "500,000+           505\n",
              "5,000+             468\n",
              "50,000+            468\n",
              "10+                385\n",
              "500+               327\n",
              "50+                204\n",
              "50,000,000+        203\n",
              "100,000,000+       191\n",
              "5+                  82\n",
              "1+                  67\n",
              "500,000,000+        24\n",
              "1,000,000,000+      20\n",
              "0+                  14\n",
              "Name: Installs, dtype: int64"
            ]
          },
          "metadata": {
            "tags": []
          },
          "execution_count": 41
        }
      ]
    },
    {
      "cell_type": "code",
      "metadata": {
        "id": "AkHQAmDwB7f6",
        "colab_type": "code",
        "outputId": "aaebabf2-dd7f-489f-96e9-5a088dd5b939",
        "colab": {
          "base_uri": "https://localhost:8080/",
          "height": 0
        }
      },
      "source": [
        "# Installs column's dtype is dtype('O') which is Python type string\n",
        "gpstore['Installs'].dtype"
      ],
      "execution_count": 42,
      "outputs": [
        {
          "output_type": "execute_result",
          "data": {
            "text/plain": [
              "dtype('O')"
            ]
          },
          "metadata": {
            "tags": []
          },
          "execution_count": 42
        }
      ]
    },
    {
      "cell_type": "code",
      "metadata": {
        "id": "iyXP_4tD75Yk",
        "colab_type": "code",
        "colab": {}
      },
      "source": [
        "# The number of installations of each app can be equal or greater than the value in Installs column\n",
        "# So we create Installs At Least column having numeric value of the number of installations at least\n",
        "gpstore['Installs At Least'] = gpstore['Installs'].replace('[^0-9]', '', regex=True).astype(int)"
      ],
      "execution_count": 0,
      "outputs": []
    },
    {
      "cell_type": "code",
      "metadata": {
        "id": "vRUvSOX8CYWE",
        "colab_type": "code",
        "outputId": "2672d956-ee89-4f0e-e19a-592a074772df",
        "colab": {
          "base_uri": "https://localhost:8080/",
          "height": 0
        }
      },
      "source": [
        "gpstore['Installs At Least'].value_counts()"
      ],
      "execution_count": 44,
      "outputs": [
        {
          "output_type": "execute_result",
          "data": {
            "text/plain": [
              "1000000       1420\n",
              "100000        1115\n",
              "10000         1030\n",
              "10000000       937\n",
              "1000           888\n",
              "100            710\n",
              "5000000        610\n",
              "500000         505\n",
              "50000          468\n",
              "5000           468\n",
              "10             385\n",
              "500            327\n",
              "50             204\n",
              "50000000       203\n",
              "100000000      191\n",
              "5               82\n",
              "1               67\n",
              "500000000       24\n",
              "1000000000      20\n",
              "0               14\n",
              "Name: Installs At Least, dtype: int64"
            ]
          },
          "metadata": {
            "tags": []
          },
          "execution_count": 44
        }
      ]
    },
    {
      "cell_type": "markdown",
      "metadata": {
        "id": "HMZ-Xz9pBtDd",
        "colab_type": "text"
      },
      "source": [
        "#### Size"
      ]
    },
    {
      "cell_type": "code",
      "metadata": {
        "id": "wXHTo5CkD6NA",
        "colab_type": "code",
        "outputId": "64f08975-2151-42fd-ccc0-94d374a4735d",
        "colab": {
          "base_uri": "https://localhost:8080/",
          "height": 1000
        }
      },
      "source": [
        "gpstore['Size'].value_counts()"
      ],
      "execution_count": 45,
      "outputs": [
        {
          "output_type": "execute_result",
          "data": {
            "text/plain": [
              "Varies with device    1227\n",
              "12M                    182\n",
              "11M                    181\n",
              "14M                    177\n",
              "13M                    177\n",
              "15M                    164\n",
              "17M                    145\n",
              "26M                    143\n",
              "16M                    137\n",
              "19M                    130\n",
              "10M                    129\n",
              "21M                    124\n",
              "20M                    124\n",
              "18M                    120\n",
              "25M                    119\n",
              "24M                    117\n",
              "22M                    104\n",
              "23M                    104\n",
              "29M                     92\n",
              "27M                     91\n",
              "28M                     90\n",
              "30M                     83\n",
              "3.3M                    73\n",
              "33M                     71\n",
              "2.3M                    68\n",
              "2.9M                    67\n",
              "2.5M                    67\n",
              "37M                     67\n",
              "31M                     67\n",
              "35M                     65\n",
              "                      ... \n",
              "619k                     1\n",
              "48k                      1\n",
              "953k                     1\n",
              "288k                     1\n",
              "28k                      1\n",
              "658k                     1\n",
              "193k                     1\n",
              "154k                     1\n",
              "280k                     1\n",
              "467k                     1\n",
              "81k                      1\n",
              "818k                     1\n",
              "293k                     1\n",
              "500k                     1\n",
              "353k                     1\n",
              "61k                      1\n",
              "259k                     1\n",
              "526k                     1\n",
              "862k                     1\n",
              "329k                     1\n",
              "50k                      1\n",
              "371k                     1\n",
              "920k                     1\n",
              "219k                     1\n",
              "784k                     1\n",
              "429k                     1\n",
              "157k                     1\n",
              "45k                      1\n",
              "506k                     1\n",
              "176k                     1\n",
              "Name: Size, Length: 461, dtype: int64"
            ]
          },
          "metadata": {
            "tags": []
          },
          "execution_count": 45
        }
      ]
    },
    {
      "cell_type": "code",
      "metadata": {
        "id": "XKwgORoIOYgg",
        "colab_type": "code",
        "colab": {}
      },
      "source": [
        "gpstore['Size In Byte'] = gpstore['Size']"
      ],
      "execution_count": 0,
      "outputs": []
    },
    {
      "cell_type": "code",
      "metadata": {
        "id": "LTVQAYcCfvuY",
        "colab_type": "code",
        "colab": {}
      },
      "source": [
        "import re"
      ],
      "execution_count": 0,
      "outputs": []
    },
    {
      "cell_type": "code",
      "metadata": {
        "id": "kDFjT4xjD8kl",
        "colab_type": "code",
        "colab": {}
      },
      "source": [
        "index_list = gpstore.index.values.tolist()\n",
        "for indx in index_list:\n",
        "  old_value = gpstore.at[indx, 'Size In Byte']\n",
        "  if (old_value == 'Varies with device'):\n",
        "    continue\n",
        "  old_value_abs = re.findall('\\d+\\.*\\d*', old_value)\n",
        "  # Check to make sure only 1 number value\n",
        "  if (len(old_value_abs) != 1):\n",
        "    print(old_value)\n",
        "  old_value_unit = re.findall('[^\\d\\W]$', old_value)\n",
        "#   print(old_value_unit)\n",
        "  new_value = 0\n",
        "  if old_value_unit[0] == 'M':\n",
        "    new_value = float(old_value_abs[0]) * 1000000\n",
        "  elif old_value_unit[0] == 'k':\n",
        "    new_value = float(old_value_abs[0]) * 1000\n",
        "  else:\n",
        "    print(\"Error: undefine unit \", old_value_unit)\n",
        "  gpstore.at[indx, 'Size In Byte'] = new_value"
      ],
      "execution_count": 0,
      "outputs": []
    },
    {
      "cell_type": "markdown",
      "metadata": {
        "id": "aAcitzI_kId6",
        "colab_type": "text"
      },
      "source": [
        "Now we update \"Varies with device\" size by mean value of each category"
      ]
    },
    {
      "cell_type": "code",
      "metadata": {
        "id": "vbRZuA2zkE57",
        "colab_type": "code",
        "colab": {}
      },
      "source": [
        "cate_list = gpstore['Category'].unique().tolist()\n",
        "gpstore['Size In Byte'].replace(to_replace='Varies with device', value=np.nan, inplace=True)\n",
        "gpstore['Size In Byte'].astype('category', inplace=True)\n",
        "for cate in cate_list:\n",
        "  cate_size_mean = round(gpstore[gpstore['Category'] == cate]['Size In Byte'].mean(), 1)\n",
        "  gpstore[gpstore['Category'] == cate] = gpstore[gpstore['Category'] == cate].fillna(cate_size_mean)\n",
        "  "
      ],
      "execution_count": 0,
      "outputs": []
    },
    {
      "cell_type": "code",
      "metadata": {
        "id": "R_ZxcI89t7Or",
        "colab_type": "code",
        "outputId": "07939f07-b8c7-4f94-ed8a-388fead1f2af",
        "colab": {
          "base_uri": "https://localhost:8080/",
          "height": 416
        }
      },
      "source": [
        "gpstore.info()"
      ],
      "execution_count": 50,
      "outputs": [
        {
          "output_type": "stream",
          "text": [
            "<class 'pandas.core.frame.DataFrame'>\n",
            "Int64Index: 9668 entries, 3304 to 6834\n",
            "Data columns (total 18 columns):\n",
            "App                  9668 non-null object\n",
            "Category             9668 non-null object\n",
            "Rating               9668 non-null float64\n",
            "Reviews              9668 non-null object\n",
            "Size                 9668 non-null object\n",
            "Installs             9668 non-null object\n",
            "Type                 9668 non-null object\n",
            "Price                9668 non-null object\n",
            "Content Rating       9668 non-null object\n",
            "Genres               9668 non-null object\n",
            "Last Updated         9668 non-null object\n",
            "Current Ver          9668 non-null object\n",
            "Android Ver          9668 non-null object\n",
            "Price in $           9668 non-null float64\n",
            "Android MinVer       9668 non-null object\n",
            "Android MaxVer       9668 non-null object\n",
            "Installs At Least    9668 non-null int64\n",
            "Size In Byte         9668 non-null float64\n",
            "dtypes: float64(3), int64(1), object(14)\n",
            "memory usage: 1.7+ MB\n"
          ],
          "name": "stdout"
        }
      ]
    },
    {
      "cell_type": "markdown",
      "metadata": {
        "id": "Ax-hgqJryahh",
        "colab_type": "text"
      },
      "source": [
        "Try to find some duplicate"
      ]
    },
    {
      "cell_type": "code",
      "metadata": {
        "id": "uv0QTCE3yZsW",
        "colab_type": "code",
        "colab": {
          "base_uri": "https://localhost:8080/",
          "height": 121
        },
        "outputId": "40ae5dbb-e4f5-4aba-fd6c-b372a977b1b0"
      },
      "source": [
        "gpstore_app_lower = gpstore['App'].str.lower()\n",
        "gpstore[gpstore.duplicated(subset='App', keep=False)]['App'].value_counts()"
      ],
      "execution_count": 51,
      "outputs": [
        {
          "output_type": "execute_result",
          "data": {
            "text/plain": [
              "Duolingo: Learn Languages Free (Education;Education)    2\n",
              "Farm Heroes Saga (Casual)                               2\n",
              "Cardiac diagnosis (heart rate, arrhythmia) (Medical)    2\n",
              "English Grammar Test (Education)                        2\n",
              "Edmodo (Education)                                      2\n",
              "Name: App, dtype: int64"
            ]
          },
          "metadata": {
            "tags": []
          },
          "execution_count": 51
        }
      ]
    },
    {
      "cell_type": "markdown",
      "metadata": {
        "id": "lBAMmfM5zpW6",
        "colab_type": "text"
      },
      "source": [
        "## III. Let draw some figure"
      ]
    },
    {
      "cell_type": "code",
      "metadata": {
        "id": "F_C8WpInzunW",
        "colab_type": "code",
        "outputId": "a7d20b74-ab8b-48d7-c1f0-2083fe2c6ce9",
        "colab": {
          "base_uri": "https://localhost:8080/",
          "height": 0
        }
      },
      "source": [
        "plt.figure(figsize=(16, 10))\n",
        "sns.barplot(data=gpstore, y='Category', x='Installs At Least')"
      ],
      "execution_count": 52,
      "outputs": [
        {
          "output_type": "execute_result",
          "data": {
            "text/plain": [
              "<matplotlib.axes._subplots.AxesSubplot at 0x7f97e9023048>"
            ]
          },
          "metadata": {
            "tags": []
          },
          "execution_count": 52
        },
        {
          "output_type": "display_data",
          "data": {
            "image/png": "[encoded data removed]",
            "text/plain": [
              "<Figure size 1152x720 with 1 Axes>"
            ]
          },
          "metadata": {
            "tags": []
          }
        }
      ]
    },
    {
      "cell_type": "code",
      "metadata": {
        "id": "ONSf4l7l3NOE",
        "colab_type": "code",
        "outputId": "6047cc35-9207-4331-b52d-f60ebfa29d0b",
        "colab": {
          "base_uri": "https://localhost:8080/",
          "height": 0
        }
      },
      "source": [
        "sns.barplot(data=gpstore, y='Type', x='Installs At Least')"
      ],
      "execution_count": 53,
      "outputs": [
        {
          "output_type": "execute_result",
          "data": {
            "text/plain": [
              "<matplotlib.axes._subplots.AxesSubplot at 0x7f97e8ec7048>"
            ]
          },
          "metadata": {
            "tags": []
          },
          "execution_count": 53
        },
        {
          "output_type": "display_data",
          "data": {
            "image/png": "[encoded data removed]",
            "text/plain": [
              "<Figure size 432x288 with 1 Axes>"
            ]
          },
          "metadata": {
            "tags": []
          }
        }
      ]
    },
    {
      "cell_type": "code",
      "metadata": {
        "id": "A7PKsXs03dnR",
        "colab_type": "code",
        "outputId": "e964233a-af84-443e-a856-cae77b465310",
        "colab": {
          "base_uri": "https://localhost:8080/",
          "height": 0
        }
      },
      "source": [
        "sns.lineplot(data=gpstore, x='Price in $', y='Installs At Least')"
      ],
      "execution_count": 54,
      "outputs": [
        {
          "output_type": "execute_result",
          "data": {
            "text/plain": [
              "<matplotlib.axes._subplots.AxesSubplot at 0x7f97e8ed5828>"
            ]
          },
          "metadata": {
            "tags": []
          },
          "execution_count": 54
        },
        {
          "output_type": "display_data",
          "data": {
            "image/png": "[encoded data removed]",
            "text/plain": [
              "<Figure size 432x288 with 1 Axes>"
            ]
          },
          "metadata": {
            "tags": []
          }
        }
      ]
    },
    {
      "cell_type": "code",
      "metadata": {
        "id": "JiC5TsSE3xoG",
        "colab_type": "code",
        "outputId": "0253e067-d8ef-4989-e69a-1b213dbb6b24",
        "colab": {
          "base_uri": "https://localhost:8080/",
          "height": 0
        }
      },
      "source": [
        "sns.lineplot(data=gpstore, x='Size', y='Installs At Least')"
      ],
      "execution_count": 55,
      "outputs": [
        {
          "output_type": "execute_result",
          "data": {
            "text/plain": [
              "<matplotlib.axes._subplots.AxesSubplot at 0x7f97e4d246d8>"
            ]
          },
          "metadata": {
            "tags": []
          },
          "execution_count": 55
        },
        {
          "output_type": "display_data",
          "data": {
            "image/png": "[encoded data removed]",
            "text/plain": [
              "<Figure size 432x288 with 1 Axes>"
            ]
          },
          "metadata": {
            "tags": []
          }
        }
      ]
    },
    {
      "cell_type": "code",
      "metadata": {
        "id": "KfNyPD0O46Q0",
        "colab_type": "code",
        "outputId": "391e3220-0a3a-40e7-b737-b53dba59ab2b",
        "colab": {
          "base_uri": "https://localhost:8080/",
          "height": 0
        }
      },
      "source": [
        "sns.heatmap(gpstore.corr(), annot=True, cmap='YlGn_r')"
      ],
      "execution_count": 56,
      "outputs": [
        {
          "output_type": "execute_result",
          "data": {
            "text/plain": [
              "<matplotlib.axes._subplots.AxesSubplot at 0x7f97e4d8f198>"
            ]
          },
          "metadata": {
            "tags": []
          },
          "execution_count": 56
        },
        {
          "output_type": "display_data",
          "data": {
            "image/png": "[encoded data removed]",
            "text/plain": [
              "<Figure size 432x288 with 2 Axes>"
            ]
          },
          "metadata": {
            "tags": []
          }
        }
      ]
    },
    {
      "cell_type": "code",
      "metadata": {
        "id": "hHmEtrYJ5hwa",
        "colab_type": "code",
        "outputId": "a7508a17-c984-43ca-fbd0-1033fff05e46",
        "colab": {
          "base_uri": "https://localhost:8080/",
          "height": 0
        }
      },
      "source": [
        "plt.figure(figsize=(20, 5))\n",
        "sns.countplot(data=gpstore.sort_values(by='Android MinVer', ascending=True), x='Android MinVer')"
      ],
      "execution_count": 57,
      "outputs": [
        {
          "output_type": "execute_result",
          "data": {
            "text/plain": [
              "<matplotlib.axes._subplots.AxesSubplot at 0x7f97e47f2518>"
            ]
          },
          "metadata": {
            "tags": []
          },
          "execution_count": 57
        },
        {
          "output_type": "display_data",
          "data": {
            "image/png": "[encoded data removed]",
            "text/plain": [
              "<Figure size 1440x360 with 1 Axes>"
            ]
          },
          "metadata": {
            "tags": []
          }
        }
      ]
    },
    {
      "cell_type": "code",
      "metadata": {
        "id": "RV31h4KW6Jjw",
        "colab_type": "code",
        "outputId": "24340643-ab11-4154-bb78-33a4cf15ef52",
        "colab": {
          "base_uri": "https://localhost:8080/",
          "height": 0
        }
      },
      "source": [
        "plt.figure(figsize=(20, 5))\n",
        "sns.countplot(data=gpstore.sort_values(by='Android MaxVer', ascending=True), x='Android MaxVer')"
      ],
      "execution_count": 58,
      "outputs": [
        {
          "output_type": "execute_result",
          "data": {
            "text/plain": [
              "<matplotlib.axes._subplots.AxesSubplot at 0x7f97e487b550>"
            ]
          },
          "metadata": {
            "tags": []
          },
          "execution_count": 58
        },
        {
          "output_type": "display_data",
          "data": {
            "image/png": "[encoded data removed]",
            "text/plain": [
              "<Figure size 1440x360 with 1 Axes>"
            ]
          },
          "metadata": {
            "tags": []
          }
        }
      ]
    },
    {
      "cell_type": "markdown",
      "metadata": {
        "id": "jSqG6-vrHtH-",
        "colab_type": "text"
      },
      "source": [
        "## IV. Make Google sheet"
      ]
    },
    {
      "cell_type": "code",
      "metadata": {
        "id": "oBCbLgauJGAx",
        "colab_type": "code",
        "colab": {}
      },
      "source": [
        "gc = gspread.authorize(GoogleCredentials.get_application_default()) #grant access to google drive "
      ],
      "execution_count": 0,
      "outputs": []
    },
    {
      "cell_type": "code",
      "metadata": {
        "id": "bjCjXGxPH8Xc",
        "colab_type": "code",
        "colab": {}
      },
      "source": [
        "def check_exists(path):\n",
        "  try:\n",
        "    sh = gc.open(path)\n",
        "    return True\n",
        "  except:\n",
        "    return False\n",
        "\n",
        "def create_new_worksheet(path='worksheet', sheets={\"sheet1\":\"\"}):\n",
        "    if check_exists(path):\n",
        "        print('create_new_worksheet(): File exists')\n",
        "        return gc.open(path)\n",
        "    sh = gc.create(path)\n",
        "    for name, cols in sheets.items():\n",
        "        sh.add_worksheet(title=name, rows=\"100\", cols=\"100\")\n",
        "        sh.values_update(\n",
        "            name + '!A1',\n",
        "            params={'valueInputOption': 'RAW'},\n",
        "            body={'values': [cols]}\n",
        "        )      \n",
        "    sh.del_worksheet(sh.sheet1)\n",
        "    return sh"
      ],
      "execution_count": 0,
      "outputs": []
    },
    {
      "cell_type": "code",
      "metadata": {
        "id": "5mUGtuysIOE3",
        "colab_type": "code",
        "colab": {}
      },
      "source": [
        "sheets = {\n",
        "    'Google Play Store': gpstore.columns.values.tolist()\n",
        "}\n",
        "sh = create_new_worksheet('Google Play Store', sheets)"
      ],
      "execution_count": 0,
      "outputs": []
    },
    {
      "cell_type": "code",
      "metadata": {
        "id": "Xybxj1HZJAfe",
        "colab_type": "code",
        "outputId": "294d0784-0c65-4539-e58c-27ca5d093c98",
        "colab": {
          "base_uri": "https://localhost:8080/",
          "height": 104
        }
      },
      "source": [
        "sh.values_update(\n",
        "  'Google Play Store!A2',\n",
        "    params={'valueInputOption': 'RAW'},\n",
        "    body={'values': gpstore.fillna('').values.tolist()}\n",
        ")"
      ],
      "execution_count": 62,
      "outputs": [
        {
          "output_type": "execute_result",
          "data": {
            "text/plain": [
              "{'spreadsheetId': '1Ej5OndGroS7DNfQc0ytnDvvXuif5voTQ0lT5Bb_5i9c',\n",
              " 'updatedCells': 174024,\n",
              " 'updatedColumns': 18,\n",
              " 'updatedRange': \"'Google Play Store'!A2:R9669\",\n",
              " 'updatedRows': 9668}"
            ]
          },
          "metadata": {
            "tags": []
          },
          "execution_count": 62
        }
      ]
    },
    {
      "cell_type": "code",
      "metadata": {
        "id": "vIBKmEBx_4wh",
        "colab_type": "code",
        "colab": {}
      },
      "source": [
        ""
      ],
      "execution_count": 0,
      "outputs": []
    }
  ]
}