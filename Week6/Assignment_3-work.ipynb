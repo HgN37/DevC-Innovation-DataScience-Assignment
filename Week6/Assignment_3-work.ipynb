{
 "cells": [
  {
   "cell_type": "markdown",
   "metadata": {},
   "source": [
    "[Bag of Words Meets Bags of Popcorn](https://www.kaggle.com/c/word2vec-nlp-tutorial/data)\n",
    "======\n",
    "\n",
    "## Data Set\n",
    "\n",
    "The labeled data set consists of 50,000 IMDB movie reviews, specially selected for sentiment analysis. The sentiment of reviews is binary, meaning the IMDB rating < 5 results in a sentiment score of 0, and rating >=7 have a sentiment score of 1. No individual movie has more than 30 reviews. The 25,000 review labeled training set does not include any of the same movies as the 25,000 review test set. In addition, there are another 50,000 IMDB reviews provided without any rating labels.\n",
    "\n",
    "## File descriptions\n",
    "\n",
    "labeledTrainData - The labeled training set. The file is tab-delimited and has a header row followed by 25,000 rows containing an id, sentiment, and text for each review.\n",
    "## Data fields\n",
    "\n",
    "* id - Unique ID of each review\n",
    "* sentiment - Sentiment of the review; 1 for positive reviews and 0 for negative reviews\n",
    "* review - Text of the review\n",
    "\n",
    "## Objective\n",
    "Objective of this dataset is base on **review** we predict **sentiment** (positive or negative) so X is **review** column and y is **sentiment** column"
   ]
  },
  {
   "cell_type": "markdown",
   "metadata": {},
   "source": [
    "## 1. Load Dataset\n",
    "we only forcus on \"labeledTrainData.csv\" file\n",
    "\n",
    "Let's first of all have a look at the data.\n",
    "\n",
    "[Click here to download dataset](https://s3-ap-southeast-1.amazonaws.com/ml101-khanhnguyen/week3/assignment/labeledTrainData.tsv)"
   ]
  },
  {
   "cell_type": "code",
   "execution_count": 1,
   "metadata": {},
   "outputs": [],
   "source": [
    "# Import pandas, numpy\n",
    "import numpy as np\n",
    "import pandas as pd"
   ]
  },
  {
   "cell_type": "code",
   "execution_count": 2,
   "metadata": {},
   "outputs": [
    {
     "data": {
      "text/html": [
       "<div>\n",
       "<style scoped>\n",
       "    .dataframe tbody tr th:only-of-type {\n",
       "        vertical-align: middle;\n",
       "    }\n",
       "\n",
       "    .dataframe tbody tr th {\n",
       "        vertical-align: top;\n",
       "    }\n",
       "\n",
       "    .dataframe thead th {\n",
       "        text-align: right;\n",
       "    }\n",
       "</style>\n",
       "<table border=\"1\" class=\"dataframe\">\n",
       "  <thead>\n",
       "    <tr style=\"text-align: right;\">\n",
       "      <th></th>\n",
       "      <th>id</th>\n",
       "      <th>sentiment</th>\n",
       "      <th>review</th>\n",
       "    </tr>\n",
       "  </thead>\n",
       "  <tbody>\n",
       "    <tr>\n",
       "      <th>12053</th>\n",
       "      <td>7834_3</td>\n",
       "      <td>0</td>\n",
       "      <td>i usually don't write reviews but i can't unde...</td>\n",
       "    </tr>\n",
       "    <tr>\n",
       "      <th>4329</th>\n",
       "      <td>10958_4</td>\n",
       "      <td>0</td>\n",
       "      <td>Having watched this after receiving the DVD fo...</td>\n",
       "    </tr>\n",
       "    <tr>\n",
       "      <th>9508</th>\n",
       "      <td>11134_9</td>\n",
       "      <td>1</td>\n",
       "      <td>Acidic, unremitting, and beautiful, John Schle...</td>\n",
       "    </tr>\n",
       "    <tr>\n",
       "      <th>24781</th>\n",
       "      <td>7091_1</td>\n",
       "      <td>0</td>\n",
       "      <td>This film was so amateurish I could hardly bel...</td>\n",
       "    </tr>\n",
       "    <tr>\n",
       "      <th>24924</th>\n",
       "      <td>1333_1</td>\n",
       "      <td>0</td>\n",
       "      <td>I was utterly disappointed by this movie. I ha...</td>\n",
       "    </tr>\n",
       "    <tr>\n",
       "      <th>3828</th>\n",
       "      <td>8384_1</td>\n",
       "      <td>0</td>\n",
       "      <td>When I saw that IMDb users rated this movie th...</td>\n",
       "    </tr>\n",
       "    <tr>\n",
       "      <th>15749</th>\n",
       "      <td>2370_10</td>\n",
       "      <td>1</td>\n",
       "      <td>It's a great American martial arts movie. The ...</td>\n",
       "    </tr>\n",
       "    <tr>\n",
       "      <th>4328</th>\n",
       "      <td>1145_1</td>\n",
       "      <td>0</td>\n",
       "      <td>Not much to say beyond the summary, save that ...</td>\n",
       "    </tr>\n",
       "    <tr>\n",
       "      <th>16414</th>\n",
       "      <td>4972_9</td>\n",
       "      <td>1</td>\n",
       "      <td>LES CONVOYEURS ATTENDENT was the first film I ...</td>\n",
       "    </tr>\n",
       "    <tr>\n",
       "      <th>9258</th>\n",
       "      <td>2828_9</td>\n",
       "      <td>1</td>\n",
       "      <td>After tracking it down for half a year, I fina...</td>\n",
       "    </tr>\n",
       "  </tbody>\n",
       "</table>\n",
       "</div>"
      ],
      "text/plain": [
       "            id  sentiment                                             review\n",
       "12053   7834_3          0  i usually don't write reviews but i can't unde...\n",
       "4329   10958_4          0  Having watched this after receiving the DVD fo...\n",
       "9508   11134_9          1  Acidic, unremitting, and beautiful, John Schle...\n",
       "24781   7091_1          0  This film was so amateurish I could hardly bel...\n",
       "24924   1333_1          0  I was utterly disappointed by this movie. I ha...\n",
       "3828    8384_1          0  When I saw that IMDb users rated this movie th...\n",
       "15749  2370_10          1  It's a great American martial arts movie. The ...\n",
       "4328    1145_1          0  Not much to say beyond the summary, save that ...\n",
       "16414   4972_9          1  LES CONVOYEURS ATTENDENT was the first film I ...\n",
       "9258    2828_9          1  After tracking it down for half a year, I fina..."
      ]
     },
     "execution_count": 2,
     "metadata": {},
     "output_type": "execute_result"
    }
   ],
   "source": [
    "# Read dataset with extra params sep='\\t', encoding=\"latin-1\"\n",
    "sentiment = pd.read_csv('labeledTrainData.tsv', sep='\\t', encoding='latin-1');\n",
    "sentiment.sample(10)"
   ]
  },
  {
   "cell_type": "code",
   "execution_count": 3,
   "metadata": {},
   "outputs": [
    {
     "data": {
      "text/html": [
       "<div>\n",
       "<style scoped>\n",
       "    .dataframe tbody tr th:only-of-type {\n",
       "        vertical-align: middle;\n",
       "    }\n",
       "\n",
       "    .dataframe tbody tr th {\n",
       "        vertical-align: top;\n",
       "    }\n",
       "\n",
       "    .dataframe thead th {\n",
       "        text-align: right;\n",
       "    }\n",
       "</style>\n",
       "<table border=\"1\" class=\"dataframe\">\n",
       "  <thead>\n",
       "    <tr style=\"text-align: right;\">\n",
       "      <th></th>\n",
       "      <th>id</th>\n",
       "      <th>review</th>\n",
       "    </tr>\n",
       "  </thead>\n",
       "  <tbody>\n",
       "    <tr>\n",
       "      <th>19423</th>\n",
       "      <td>6644_10</td>\n",
       "      <td>A gruelling watch, but one of Bergman's finest...</td>\n",
       "    </tr>\n",
       "    <tr>\n",
       "      <th>19614</th>\n",
       "      <td>8372_1</td>\n",
       "      <td>This really is by far the worst movie I've eve...</td>\n",
       "    </tr>\n",
       "    <tr>\n",
       "      <th>9716</th>\n",
       "      <td>1525_1</td>\n",
       "      <td>Doesn't anyone bother to check where this kind...</td>\n",
       "    </tr>\n",
       "    <tr>\n",
       "      <th>22901</th>\n",
       "      <td>10891_10</td>\n",
       "      <td>GoldenEye 007 is not only the best movie tie-i...</td>\n",
       "    </tr>\n",
       "    <tr>\n",
       "      <th>3989</th>\n",
       "      <td>2210_4</td>\n",
       "      <td>This movie is total dumbness incarnate. Yet, i...</td>\n",
       "    </tr>\n",
       "    <tr>\n",
       "      <th>4322</th>\n",
       "      <td>7626_7</td>\n",
       "      <td>i was 9 when i first saw this on TV. on a Frid...</td>\n",
       "    </tr>\n",
       "    <tr>\n",
       "      <th>16064</th>\n",
       "      <td>3447_3</td>\n",
       "      <td>Coen Brothers-wannabe from writer-director Pau...</td>\n",
       "    </tr>\n",
       "    <tr>\n",
       "      <th>596</th>\n",
       "      <td>12025_1</td>\n",
       "      <td>How in the world does a thing like this get in...</td>\n",
       "    </tr>\n",
       "    <tr>\n",
       "      <th>19560</th>\n",
       "      <td>9635_3</td>\n",
       "      <td>This representation of the popular children's ...</td>\n",
       "    </tr>\n",
       "    <tr>\n",
       "      <th>18261</th>\n",
       "      <td>739_10</td>\n",
       "      <td>Although it isn't mentioned very often, \\Don't...</td>\n",
       "    </tr>\n",
       "  </tbody>\n",
       "</table>\n",
       "</div>"
      ],
      "text/plain": [
       "             id                                             review\n",
       "19423   6644_10  A gruelling watch, but one of Bergman's finest...\n",
       "19614    8372_1  This really is by far the worst movie I've eve...\n",
       "9716     1525_1  Doesn't anyone bother to check where this kind...\n",
       "22901  10891_10  GoldenEye 007 is not only the best movie tie-i...\n",
       "3989     2210_4  This movie is total dumbness incarnate. Yet, i...\n",
       "4322     7626_7  i was 9 when i first saw this on TV. on a Frid...\n",
       "16064    3447_3  Coen Brothers-wannabe from writer-director Pau...\n",
       "596     12025_1  How in the world does a thing like this get in...\n",
       "19560    9635_3  This representation of the popular children's ...\n",
       "18261    739_10  Although it isn't mentioned very often, \\Don't..."
      ]
     },
     "execution_count": 3,
     "metadata": {},
     "output_type": "execute_result"
    }
   ],
   "source": [
    "sentimentTestNoLabel = pd.read_csv('testData.tsv', sep='\\t', encoding='latin-1');\n",
    "sentimentTestNoLabel.sample(10)"
   ]
  },
  {
   "cell_type": "markdown",
   "metadata": {},
   "source": [
    "## 2. Preprocessing"
   ]
  },
  {
   "cell_type": "code",
   "execution_count": 4,
   "metadata": {},
   "outputs": [
    {
     "name": "stderr",
     "output_type": "stream",
     "text": [
      "[nltk_data] Downloading package stopwords to /home/hgn/nltk_data...\n",
      "[nltk_data]   Package stopwords is already up-to-date!\n"
     ]
    }
   ],
   "source": [
    "# stop words\n",
    "import nltk\n",
    "nltk.download('stopwords')\n",
    "from nltk.corpus import stopwords\n",
    "stop = stopwords.words('english')"
   ]
  },
  {
   "cell_type": "code",
   "execution_count": 5,
   "metadata": {},
   "outputs": [
    {
     "data": {
      "text/plain": [
       "[('I', 65973),\n",
       " ('/><br', 50935),\n",
       " ('The', 33762),\n",
       " ('movie', 30496),\n",
       " ('film', 27394),\n",
       " ('one', 20685),\n",
       " ('like', 18133),\n",
       " ('This', 12279),\n",
       " ('would', 11922),\n",
       " ('good', 11435),\n",
       " ('It', 10952),\n",
       " ('really', 10814),\n",
       " ('even', 10607),\n",
       " ('see', 10154),\n",
       " ('-', 9355),\n",
       " ('get', 8776),\n",
       " ('story', 8523),\n",
       " ('much', 8507),\n",
       " ('time', 7762),\n",
       " ('make', 7485)]"
      ]
     },
     "execution_count": 5,
     "metadata": {},
     "output_type": "execute_result"
    }
   ],
   "source": [
    "from collections import Counter\n",
    "vocab = Counter()\n",
    "vocab_reduced = Counter()\n",
    "\n",
    "for word in sentiment['review'].str.cat(sep=' ').split():\n",
    "    vocab[word] += 1\n",
    "\n",
    "for word, repeat in vocab.items():\n",
    "    if word not in stop:\n",
    "        vocab_reduced[word] = repeat\n",
    "        \n",
    "vocab_reduced.most_common(20)"
   ]
  },
  {
   "cell_type": "code",
   "execution_count": 6,
   "metadata": {},
   "outputs": [],
   "source": [
    "# Removing special characters and \"trash\"\n",
    "import re\n",
    "def preprocessor(text):\n",
    "    # Remove HTML markup\n",
    "    text = re.sub('<[^>]*>', '', text)\n",
    "    # Save emoticons for later appending\n",
    "    emoticons = re.findall('(?::|;|=)(?:-)?(?:\\)|\\(|D|P)', text)\n",
    "    text = re.sub('(?::|;|=)(?:-)?(?:\\)|\\(|D|P)', '', text)\n",
    "    # Remove any non-word character and append the emoticons,\n",
    "    # removing the nose character for standarization. Convert to lower case\n",
    "    text = (re.sub('[\\W]+', ' ', text.lower()) + ' ' + ' '.join(emoticons).replace('-', ''))\n",
    "    text = re.sub(' +', ' ', text)\n",
    "    \n",
    "    return text"
   ]
  },
  {
   "cell_type": "code",
   "execution_count": 7,
   "metadata": {},
   "outputs": [],
   "source": [
    "# tokenizer and stemming\n",
    "# tokenizer: to break down our twits in individual words\n",
    "# stemming: reducing a word to its root\n",
    "from nltk.stem import PorterStemmer\n",
    "# Your code here\n",
    "porter = PorterStemmer()\n",
    "def tokenizer(text):\n",
    "    token = [] \n",
    "    # Your code here\n",
    "    text = preprocessor(text)\n",
    "    token = text.split()\n",
    "    return token\n",
    "\n",
    "def tokenizer_porter(text):\n",
    "    token = []\n",
    "    # Your code here\n",
    "    for word in tokenizer(text):\n",
    "        token.append(porter.stem(word))\n",
    "    return token\n"
   ]
  },
  {
   "cell_type": "code",
   "execution_count": 10,
   "metadata": {},
   "outputs": [],
   "source": [
    "# split the dataset in train and test\n",
    "# Your code here\n",
    "from sklearn.model_selection import train_test_split\n",
    "\n",
    "X = sentiment['review']\n",
    "y = sentiment['sentiment']\n",
    "\n",
    "X_train, X_test, y_train, y_test = train_test_split(X, y, test_size=0.3)"
   ]
  },
  {
   "cell_type": "markdown",
   "metadata": {},
   "source": [
    "## 3. Create Model and Train \n",
    "\n",
    "Using **Pipeline** to concat **tfidf** step and **LogisticRegression** step"
   ]
  },
  {
   "cell_type": "code",
   "execution_count": 12,
   "metadata": {},
   "outputs": [
    {
     "name": "stderr",
     "output_type": "stream",
     "text": [
      "/usr/local/lib/python3.7/dist-packages/sklearn/feature_extraction/text.py:300: UserWarning: Your stop_words may be inconsistent with your preprocessing. Tokenizing the stop words generated tokens ['abov', 'ani', 'becaus', 'befor', 'doe', 'dure', 'ha', 'hi', 'onc', 'onli', 'ourselv', 'themselv', 'thi', 'veri', 'wa', 'whi', 'yourselv'] not in stop_words.\n",
      "  'stop_words.' % sorted(inconsistent))\n",
      "/usr/local/lib/python3.7/dist-packages/sklearn/linear_model/logistic.py:432: FutureWarning: Default solver will be changed to 'lbfgs' in 0.22. Specify a solver to silence this warning.\n",
      "  FutureWarning)\n"
     ]
    },
    {
     "data": {
      "text/plain": [
       "Pipeline(memory=None,\n",
       "         steps=[('vect',\n",
       "                 TfidfVectorizer(analyzer='word', binary=False,\n",
       "                                 decode_error='strict',\n",
       "                                 dtype=<class 'numpy.float64'>,\n",
       "                                 encoding='utf-8', input='content',\n",
       "                                 lowercase=True, max_df=1.0, max_features=None,\n",
       "                                 min_df=1, ngram_range=(1, 1), norm='l2',\n",
       "                                 preprocessor=<function preprocessor at 0x7fd2f0442620>,\n",
       "                                 smooth_idf=True,\n",
       "                                 stop_words=['i', 'me', 'my', 'myself', '...\n",
       "                                 token_pattern='(?u)\\\\b\\\\w\\\\w+\\\\b',\n",
       "                                 tokenizer=<function tokenizer_porter at 0x7fd2c4610b70>,\n",
       "                                 use_idf=True, vocabulary=None)),\n",
       "                ('clf',\n",
       "                 LogisticRegression(C=1.0, class_weight=None, dual=False,\n",
       "                                    fit_intercept=True, intercept_scaling=1,\n",
       "                                    l1_ratio=None, max_iter=100,\n",
       "                                    multi_class='warn', n_jobs=None,\n",
       "                                    penalty='l2', random_state=0, solver='warn',\n",
       "                                    tol=0.0001, verbose=0, warm_start=False))],\n",
       "         verbose=False)"
      ]
     },
     "execution_count": 12,
     "metadata": {},
     "output_type": "execute_result"
    }
   ],
   "source": [
    "# Import Pipeline, LogisticRegression, TfidfVectorizer\n",
    "from sklearn.pipeline import Pipeline\n",
    "from sklearn.linear_model import LogisticRegression\n",
    "from sklearn.feature_extraction.text import TfidfVectorizer\n",
    "\n",
    "\n",
    "tfidf = TfidfVectorizer(stop_words=stop,\n",
    "                        tokenizer=tokenizer_porter,\n",
    "                        preprocessor=preprocessor)\n",
    "\n",
    "clf = Pipeline([('vect', tfidf),\n",
    "                ('clf', LogisticRegression(random_state=0))])\n",
    "clf.fit(X_train, y_train)"
   ]
  },
  {
   "cell_type": "markdown",
   "metadata": {},
   "source": [
    "## 4. Evaluate Model"
   ]
  },
  {
   "cell_type": "code",
   "execution_count": 13,
   "metadata": {},
   "outputs": [
    {
     "data": {
      "text/plain": [
       "0.8836"
      ]
     },
     "execution_count": 13,
     "metadata": {},
     "output_type": "execute_result"
    }
   ],
   "source": [
    "# Using Test dataset to evaluate model\n",
    "# classification_report\n",
    "# confusion matrix\n",
    "from sklearn.metrics import accuracy_score, confusion_matrix, classification_report\n",
    "\n",
    "y_predict = clf.predict(X_test)\n",
    "accuracy_score(y_test, y_predict)"
   ]
  },
  {
   "cell_type": "code",
   "execution_count": 14,
   "metadata": {},
   "outputs": [
    {
     "data": {
      "text/plain": [
       "array([[3270,  505],\n",
       "       [ 368, 3357]])"
      ]
     },
     "execution_count": 14,
     "metadata": {},
     "output_type": "execute_result"
    }
   ],
   "source": [
    "confusion_matrix(y_test, y_predict)"
   ]
  },
  {
   "cell_type": "code",
   "execution_count": 15,
   "metadata": {},
   "outputs": [
    {
     "name": "stdout",
     "output_type": "stream",
     "text": [
      "              precision    recall  f1-score   support\n",
      "\n",
      "           0       0.90      0.87      0.88      3775\n",
      "           1       0.87      0.90      0.88      3725\n",
      "\n",
      "    accuracy                           0.88      7500\n",
      "   macro avg       0.88      0.88      0.88      7500\n",
      "weighted avg       0.88      0.88      0.88      7500\n",
      "\n"
     ]
    }
   ],
   "source": [
    "print(classification_report(y_test, y_predict))"
   ]
  },
  {
   "cell_type": "markdown",
   "metadata": {},
   "source": [
    "## 5. Export Model "
   ]
  },
  {
   "cell_type": "code",
   "execution_count": 17,
   "metadata": {},
   "outputs": [],
   "source": [
    "# Using pickle to export our trained model\n",
    "import pickle\n",
    "import os\n",
    "\n",
    "pickle.dump(clf, open(os.path.join('logisticRegression.pkl'), 'wb'), protocol=4)"
   ]
  },
  {
   "cell_type": "markdown",
   "metadata": {},
   "source": [
    "## 6 Try to predict non label data"
   ]
  },
  {
   "cell_type": "code",
   "execution_count": 20,
   "metadata": {},
   "outputs": [],
   "source": [
    "sentimentTestNoLabel['predict review'] =  clf.predict(sentimentTestNoLabel['review'])"
   ]
  },
  {
   "cell_type": "code",
   "execution_count": 22,
   "metadata": {},
   "outputs": [
    {
     "data": {
      "text/html": [
       "<div>\n",
       "<style scoped>\n",
       "    .dataframe tbody tr th:only-of-type {\n",
       "        vertical-align: middle;\n",
       "    }\n",
       "\n",
       "    .dataframe tbody tr th {\n",
       "        vertical-align: top;\n",
       "    }\n",
       "\n",
       "    .dataframe thead th {\n",
       "        text-align: right;\n",
       "    }\n",
       "</style>\n",
       "<table border=\"1\" class=\"dataframe\">\n",
       "  <thead>\n",
       "    <tr style=\"text-align: right;\">\n",
       "      <th></th>\n",
       "      <th>id</th>\n",
       "      <th>review</th>\n",
       "      <th>predict review</th>\n",
       "    </tr>\n",
       "  </thead>\n",
       "  <tbody>\n",
       "    <tr>\n",
       "      <th>557</th>\n",
       "      <td>11818_4</td>\n",
       "      <td>The plot for Black Mama White Mama, revolves around two female inmates, at a women's prison in the Phillipines. One Black, and one White. These two women, are thrown together in the prison. Pam Grier is Lee Daniels Lee is incarcerated in the hellish women's prison, for dancing as a harem girl. &lt;br /&gt;&lt;br /&gt;Lee's boyfriend owes her part of his profits, from his drug-dealing activities. Lee is mainly interested in breaking out of the prison to get hold of her beau's drug money, so that she can leave the Phillipines and assume a better life. Margaret Markov plays Karen Brent, a white women from a privileged background, who is also a revolutionary. Karen has joined a group of revolutionaries, determined to change the corrupt Phillipino political system. She's captured by Phillipino authorities, and held as a political prisoner.&lt;br /&gt;&lt;br /&gt;The story-line takes-off, when Karen and Lee break out of the prison they were in together. The two of them also happened to be chained together at the wrist. As they flee, they also fight with each other, because they have different goals to pursue. Naturally, they hate being chained together. But they also realize that they must put aside their differences, to help each other survive while they evade capture.&lt;br /&gt;&lt;br /&gt;If this film seems very similar to The Big Bird Cage, it's because much of the cast in the two films is the same, as well as their location in the Phillipines. Roger Corman, has always had a consistent stable of actors, that he used in all of his 70s B movies. Besides Pam Grier, Sid Haig, Roberta Collins, Claudia Jennings, Betty Anne Rees, and William Smith, were also among the many actors that were frequently cast, in Corman's AIP films.&lt;br /&gt;&lt;br /&gt;Like The Big Bird Cage, Black Mama White Mama, relies on too much gory violence to be palatable. Pam Grier conveys her usual tough chick persona in this film, and shows her competence as a female action heroine. Margaret Markov is less effect, in her portrayal of the revolutionary Karen. She just seems to fragile and well-coiffed, to be a dedicated political guerrilla. Except for Sid Haig, as the colorful Ruben, the rest of the cast is forgettable.&lt;br /&gt;&lt;br /&gt;This film has little entertainment value, unless excessive, heinous acts of violence are your thing. Only the performances by Pam Grier and Sig Haig, make this film worth watching.</td>\n",
       "      <td>1</td>\n",
       "    </tr>\n",
       "    <tr>\n",
       "      <th>20836</th>\n",
       "      <td>1237_2</td>\n",
       "      <td>I must have missed a part of this movie... I found myself asking who is this? And, when did that happen? It seemed to jump around but I kept watching for fear I was missing something and it would all be explained to me. I loved Lonesome Dove but this movie made no sense to me at all. I did love all the actors but what happened to the rest of the movie? It made me go \\what\\\"? at the beginning of each part..As far as the scenery - I thought it was fine..It made me feel though like I was leafing through a book and leaving pages out.. The ending had me a little confused too although I imagine the boy was waiting for his father and was meant to leave you wondering if his father would finally come home to his son and be a father since his mother was now gone..I would like to read the book just to see what I missed in the movie..I don't expect this one to win any awards.\"</td>\n",
       "      <td>1</td>\n",
       "    </tr>\n",
       "    <tr>\n",
       "      <th>5691</th>\n",
       "      <td>5339_1</td>\n",
       "      <td>I've been watching a lot of Asian horror movies lately, but this one has to be the worst so far. It started out interestingly enough, but lost momentum after the first 15 minutes of the movie. The added \\drama\\\" scenes, flashback sequences and serious plot holes left me hanging. What really happened in the tunnel? Just \\\"something terrible\\\"??? Who started all the killing if it wasn't the ghost? What did she want returned to her????? No answers whatsoever! Overall, not very scary at all and the movie makers need to come up with a lot better ideas than this...&lt;br /&gt;&lt;br /&gt;One positive was the cute actress, but that's about it.&lt;br /&gt;&lt;br /&gt;Not recommended.\"</td>\n",
       "      <td>0</td>\n",
       "    </tr>\n",
       "    <tr>\n",
       "      <th>13968</th>\n",
       "      <td>183_4</td>\n",
       "      <td>He who fights with monsters might take care lest he thereby become a monster. And if you gaze for long into an abyss, the abyss gazes also into you.&lt;br /&gt;&lt;br /&gt;Yes, this is from Nietzsche's Aphorism 146 from \\Beyond Good and Evil\\\". And that's what you find at the start of this movie.&lt;br /&gt;&lt;br /&gt;If you watch the whole movie, you will doubt if it was the message that the Ram Gopal Varma Production wanted to pass on. As the scenes crop up one by one, quite violent and at times puke-raking, the viewer is expected to forget the Nietzsche quote and think otherwise. That to deal with few people you need dedicated people like Sadhu Agashe who will have the licence to kill anyone, not just writing FIRs (something unworthy of the police to do, as we are made to believe).&lt;br /&gt;&lt;br /&gt;When TADA was repealed and the government wanted to pass newer and even more draconian laws, RGV's \\\"Satya\\\" did the required brain surgery without blood transfusion for the multiplex growing thinking urban crowd whose views matters in a democratic country like India. Within a year MCOCA was passed.&lt;br /&gt;&lt;br /&gt;When real life encounter specialist Daya Nayak 'became a monster on the path of fighting them' and was himself booked by MCOCA, \\\"Aab tak Chhappan\\\" was made to heed out \\\"false\\\" impression among the people about this. With it's \\\"you have to be a monster to save your nation\\\" approach.&lt;br /&gt;&lt;br /&gt;And people consumed it. No questions raised. Only praises and hopes that they get a Sadhu Agashe in their local police station who will solve all problems and hence let only milk and butter flow all over. Blood? You can ignore.&lt;br /&gt;&lt;br /&gt;Every time Israel attacks Palestine or Lebanon, we hear voices like \\\"India must also similarly attack Pakistan\\\". This movie is made for such psychopaths. If you don't give them this, they will probably die out of boredom and LSD and what not.&lt;br /&gt;&lt;br /&gt;Hence this game of the passion of hatred.\"</td>\n",
       "      <td>0</td>\n",
       "    </tr>\n",
       "    <tr>\n",
       "      <th>4622</th>\n",
       "      <td>12206_10</td>\n",
       "      <td>Surface was awesome, I don't know how many Mondays I survived at school just by thinking about the new episode of surface. I loved it, sometimes I had to call home and tell my mom to tape it for me. I was pretty upset when I heard it was cancelled, I mean jeez way to let us hang. So,they can have their new Tina fay comedy(you couldn't pay me to watch that, I think seeing the commercials made me dumber). I'm gonna miss my Monday night fix of Surface, even if my sister did make fun of me. although,kidnapped does look good and, they still have L&amp;O: SVU (i think, i still have to check) (i only wrote the 2 lines above, because they said i needed ten lines).</td>\n",
       "      <td>1</td>\n",
       "    </tr>\n",
       "    <tr>\n",
       "      <th>20983</th>\n",
       "      <td>2842_9</td>\n",
       "      <td>A question immediately arises in this extremely idiosyncratic film: Who are the crazy people?&lt;br /&gt;&lt;br /&gt;The answer become less clear as the film goes on.&lt;br /&gt;&lt;br /&gt;Renee Zellweger loses the whiney note in her voice and, while her voice is still high, she is incredibly effective as the shell-shocked Betty. In fact, she is so effective I almost wanted her to be just a little more crazy because her created reality was so believable.&lt;br /&gt;&lt;br /&gt;This is the first time Ms Zellweger has been called upon to carry a film and she is more than equal to the task.&lt;br /&gt;&lt;br /&gt;Chris Rock Â though as foul-mouthed as usual Â is fairly subdued as Wesley. He is able to sublimate his manic energy and it only occasionally surfaces and always when it is needed most.&lt;br /&gt;&lt;br /&gt;There are some interesting allusions: the first time you see Betty she is dressed almost exactly like Dorothy Gale from the `Wizard of Oz' Â then later in the film she is compared to Dorothy when she says she has never been out of Kansas before. At one point the song that Doris Day was best known for, ÂQue Sera Sera' is on the soundtrack and then later Charlie (Morgan Freeman) describes her as having Âa whole Doris Day thing going on.'&lt;br /&gt;&lt;br /&gt;This is an extremely quirky film with good performances by everyone including the supporting cast.&lt;br /&gt;&lt;br /&gt;It has a surprising ending that, as contrary as it sounds, is actually fairly predictable.&lt;br /&gt;&lt;br /&gt;If for no other reason see this film just to listen to the master of the human voice: Morgan Freeman.</td>\n",
       "      <td>1</td>\n",
       "    </tr>\n",
       "    <tr>\n",
       "      <th>15541</th>\n",
       "      <td>2570_4</td>\n",
       "      <td>Apart from some quite stunning scenery, this Steven Seagal vehicle is devoid of reasons to spend any time watching it. For a Seagal movie it has very little (almost no) action but he does put in some reasonable (for him) acting in contrived character development scenes. Not recommended. To anyone.</td>\n",
       "      <td>0</td>\n",
       "    </tr>\n",
       "    <tr>\n",
       "      <th>24819</th>\n",
       "      <td>939_4</td>\n",
       "      <td>A quick, funny coming-of-age matinÃ©e romp appealing to the underdog aldolescent in us all. It functions, in effect, as a vehicle for Justin Long who has subsequently erupted onto our screens in the fourth Die Hard via PC vs Mac ads, Dodgeball and The Break Up. He's funny, earnest and young - a big career ahead.&lt;br /&gt;&lt;br /&gt;A town's worth of college wannabes find a fake website Bartelby (Long) has set up to delude his judgemental parents and descend on the 'college' like it were a short notice Facebook party. Lewis Black summises the anarchic philosophy as a stand-in Dean - Long's delinquent friends provide support for the subterfuge and consequent appeal to grander traditions of education and friendship (Adam Herschman deserves special mention for his never-flagging slapstick contribution). Well executed, feelgood and instantly forgettable. 4/10</td>\n",
       "      <td>1</td>\n",
       "    </tr>\n",
       "    <tr>\n",
       "      <th>12083</th>\n",
       "      <td>11669_10</td>\n",
       "      <td>I'm astonished how a filmmaker notorious for his political left-wing fervor could make such a subtle, non-sanctimonious picture. If you're for capital punishment, you'll still be for it after seeing this. If you're against capital punishment, you'll still be against it. But whatever your stance is, this movie will, at the very least, make you reflect on why you feel the way you do. There's not one false note in the film.</td>\n",
       "      <td>1</td>\n",
       "    </tr>\n",
       "    <tr>\n",
       "      <th>13259</th>\n",
       "      <td>7272_1</td>\n",
       "      <td>Finally, I can connect the dots between Return of the Jedi and Phantom Menace. We see here where Lucas lost touch with what made the original Star Wars films great and began to descend into the plot less tripe that ruined episodes 1-3. This film is more like one of those cheesy low-budget 80s swords and sorcerer films than anything worthy of being associated with the Star Wars saga. As with the Jar-Jar character, this seems targeted at children (and the toy market). The battle scenes are particularly bad. It was depressing to see Sian Phillips' incredible talent go to such a waste, after her classic performance in I, Claudius.</td>\n",
       "      <td>0</td>\n",
       "    </tr>\n",
       "    <tr>\n",
       "      <th>21083</th>\n",
       "      <td>1935_3</td>\n",
       "      <td>I saw this when it came out in theaters back in 1996. I remember I was already familiar with Elijah Wood's work (that's right, he made stuff before \\Lord of the Rings\\\"!) and the merchandising tie-ins to the film were pretty abundant (\\\"Flipper\\\" water guns were even circulating).&lt;br /&gt;&lt;br /&gt;Adults were reminded of the old movies and TV show and for nostalgia's sake took their kids to see it, who were excited because it was a movie about a dolphin and a stupid boy.&lt;br /&gt;&lt;br /&gt;Unfortunately it wasn't what anyone expected and flopped severely. You know a movie's in trouble when a boy swims away from a Hammerhead shark in the middle of the ocean, and a pack of dolphins scare the shark away, and the kid -- instead of getting out of the water into a boat -- floats in the water for five minutes thanking his dolphin for saving him ... apparently he hasn't taken into mind that the shark is still out there, perhaps even below him.&lt;br /&gt;&lt;br /&gt;Another problem is Paul Hogan. He looks old, crusty and tired of recycling his Croc Dundee shtick. By now, no one even remembered \\\"Crocodile Dundee\\\" much less Hogan, and I half expected him to suddenly start pretending he didn't know what a hair dryer was for the sake of fish-out-of-water/social-satire laughs.&lt;br /&gt;&lt;br /&gt;All in all this is a really poor \\\"family\\\" movie that is amateurish and almost hard to watch at times. I hated it when I saw it in theaters back in '96 and I hate it more now.\"</td>\n",
       "      <td>0</td>\n",
       "    </tr>\n",
       "    <tr>\n",
       "      <th>19056</th>\n",
       "      <td>5489_2</td>\n",
       "      <td>'Illuminata' has expanded the limits of John Turturro's mediocrity from second rate actor to third rate director, writer and producer. This film was dreadful. It is disjointed and flits from scene to scene with little flow or meaning relevant to the main story line.&lt;br /&gt;&lt;br /&gt;We are served with a smorgasbord of fragmented scenes, each a non sequitur to all the others. The only thread that seems to run through them is that they occur in the lives of the members of the same theatre repertory company. The few scenes that do matter to the plot are so convoluted that you frequently can't tell if the dialogue is from the story or the actors running their lines for the play within the story. &lt;br /&gt;&lt;br /&gt;If this story were a person it would be a schizophrenic with mulitple personality disorder. It couldn't decide if it was a drama, a romance, a comedy, a tragedy, a sex farce, or a parody of theatre. It came closest to being bearable as a sex farce.&lt;br /&gt;&lt;br /&gt; Turturro was lifeless and impassive as Tuccio, supposedly a complex and passionate writer whose play gets its big chance when the currently running show needs to be cancelled due to the illness of the lead actor. Susan Sarandon gave a good performance as the aging actress trying to seduce Tuccio for a role. Unfortunately, she found it necessary to go topless which only goes to illustrate that the hardware of aging sex symbols is much better left to the imagination. Christoher Walkin gave a delightful performance as the uppity theatre critic who makes impassioned overtures to a member of the cast. Beverly D'Angelo and Ben Gazzara also had minor roles.&lt;br /&gt;&lt;br /&gt;I gave this film a 2. Other than Walken's vignette, there is really not much to recommend it except that the puppets used in the opening and closing credits were phenomenally lifelike and beautiful. Avoid this movie like the plague that it is.&lt;br /&gt;&lt;br /&gt;</td>\n",
       "      <td>0</td>\n",
       "    </tr>\n",
       "    <tr>\n",
       "      <th>6168</th>\n",
       "      <td>8896_8</td>\n",
       "      <td>As much as I hate to disagree with the original poster, I found Asterix and the Vikings quite good, and a HUGE step above previous attempts at animating everyone's favorite Gaul.&lt;br /&gt;&lt;br /&gt;For someone not familiar with the famous comic series, the show would be hard to follow, but for those of us in the know, it's a pleasure to watch.&lt;br /&gt;&lt;br /&gt;First and foremost, the animation is far superior to earlier comic adaptations. You can tell they took the time and effort to really recapture the look and feel of the comics this time around.&lt;br /&gt;&lt;br /&gt;As mentioned, there are elements of other Asterix titles in the movie and I can see how fans of those titles might feel confused or a bit let down, but I was so caught up in actually seeing one of my favorite childhood comics faithfully represented on the screen, any qualms I had were minor by comparison. Minor spoilers follow...&lt;br /&gt;&lt;br /&gt;Asterix and his faithful friend Obelix travel north to rescue the nephew of their village chief, who has been captured by the Vikings. The Vikings think that by the boy teaching them about fear, they will be able to fly, thanks to some poorly worded advice from their village druid. In the process, the boy meets the Viking Chief's daughter Abba and they fall in love, etc etc etc... If my explanation sounds convoluted, don't worry.. The plot is easy to follow! Definitely a great buy.. You can purchase this DVD through Amazon France, but be warned.. Your DVD player probably won't be able to play it. I had to change the region setting on my computer to view it..</td>\n",
       "      <td>1</td>\n",
       "    </tr>\n",
       "    <tr>\n",
       "      <th>4297</th>\n",
       "      <td>8046_1</td>\n",
       "      <td>This is no doubt one of the worst movies i have seen in a long time. I was expecting alot more from the actors. It started alright, then things go from idiotic to absolutely ridiculous. Definitely not worth renting except if its a free rental.</td>\n",
       "      <td>0</td>\n",
       "    </tr>\n",
       "    <tr>\n",
       "      <th>5291</th>\n",
       "      <td>11744_7</td>\n",
       "      <td>Based on the 1952 autobiography \\A Many-Splendoured Thing,\\\" \\\"Love Is a Many-Splendored Thing\\\" (1955) tells the story of Han Suyin, focusing on the romance that Han, a widowed Eurasian doctor in 1949 Hong Kong, had with a married American correspondent named Mark Elliott. \\\"I don't want to feel anything again, ever,\\\" Han tells Mark soon after they meet, but the two soon develop the mutual irresistibles for each other, and who can blame them? Mark is played by William Holden at the near peak of his hunky-dude period (the following year's \\\"Picnic\\\" would be the peak) in this, the first of three films over the next seven years that would find Holden in China (1960's \\\"The World of Suzie Wong\\\" and 1962's \\\"Satan Never Sleeps\\\" being the others). And Dr. Han is here played by Jennifer Jones, who, although not a Eurasian (unlike yummy Nancy Kwan and pretty France Nuyen of those other exotic Holden films), does a credible job of passing as one. Whether dressed in cheongsam, European frock, surgical gown or (hubba-hubba!) bathing suit, Jones looks ridiculously gorgeous here. No wonder East meets West in this film so dramatically! With its two appealing lead stars, breathtaking Hong Kong scenery, beautiful CinemaScope and color, Oscar-winning costumes and that classic, Oscar-winning title song that wafts through the film like a lovely incense, \\\"Love Is a Many-Splendored Thing\\\" turns out to be quite the winning and romantic concoction. Han herself supposedly did not care for the picture, so I can only imagine that great liberties were taken with her source material. Still, I enjoyed it. And if the film's ending causes a tear to come to the eye, just remember Mark's words of wisdom: \\\"Life's greatest tragedy is not to be loved.\\\"\"</td>\n",
       "      <td>1</td>\n",
       "    </tr>\n",
       "    <tr>\n",
       "      <th>22080</th>\n",
       "      <td>7369_10</td>\n",
       "      <td>This movie is about a group of four friends who wreck a car while driving. They build a campfire to get though the night and wait for help. To pass the time, they tell each other scary stories. To tell about it would ruin the movie, so rent and enjoy it!!&lt;br /&gt;&lt;br /&gt;I will say it starts out a little slow, but each tale get better and better. This movie stars some of today's hottest actors Christine Taylor(The Brady Bunch Movies), James Marsden(Disturbing Behavior) and Ron Livingston (Office Space). So you can see there are big name stars just not the really big ones!!GO rent or buy it ASAP !!This movie is awesome!!</td>\n",
       "      <td>0</td>\n",
       "    </tr>\n",
       "    <tr>\n",
       "      <th>12620</th>\n",
       "      <td>11520_1</td>\n",
       "      <td>Ed Wood rides again. The fact that this movie was made should give any young&lt;br /&gt;&lt;br /&gt;aspiring film maker hope. Any screenplay you might have thought of using to&lt;br /&gt;&lt;br /&gt;line a litterbox or a birdcage should now not seem that bad. Do not watch this movie unless you have a healthy stash of Tylenol or Rolaids. Watching this&lt;br /&gt;&lt;br /&gt;movie made me realize that Boa vs. Python was not that bad after all. It probably would have been better to do this movie in Claymation as at least that way no actor would have had to take credit for being in this film. It is understandable why this director has so many aliases. There is a bright side to watching this movie in that if you can get someone to bring you a bag of chips, then you can eat your way out of the cocoon of cheese that surrounds you enabling you to&lt;br /&gt;&lt;br /&gt;make your toward your TV set's cocoon of cheese that surrounds it.</td>\n",
       "      <td>0</td>\n",
       "    </tr>\n",
       "    <tr>\n",
       "      <th>22397</th>\n",
       "      <td>7157_10</td>\n",
       "      <td>Forgiving the Franklins is the best film I have seen in years. The acting was fantastic..especially Mari Blackwell who was truly remarkable in the role of Peggy Lester. She brought Peggy to life with incredible skill and made her as real as my own next-door neighbor. I also enjoyed Robertson Dean in the role of the father... he is a true professional, and managed to pull off even the most intimate scenes with a rare grace. The performances by the entire cast were very good, excellent, in fact but Peggy's role as played by Blackwell made the movie. The cinematography was beautifully done throughout and was most impressive. The only criticism I have to offer is a slight weakness of the ending scenes, which were overly drawn out, repetitive and a bit too focused on the wrong character. I would have liked to see it end on a note of forgiveness....but spite of that slight flaw, it is very much worth the watching and applause for all involved in the making of it.</td>\n",
       "      <td>1</td>\n",
       "    </tr>\n",
       "    <tr>\n",
       "      <th>20038</th>\n",
       "      <td>8575_2</td>\n",
       "      <td>I don't usually like to comment on the acting in a movie, because it is the one thing that people who have agenda against a film will go after. In this movie, I will make an exception. The acting in this film are below average all around. I mean halfway into the film, I wonder how the hell did the producer and/or the director gets around casting such an ensemble of people who can't act. Even-though the production value was good, the ill written story just compounded on top of the bad performance of the actors, and there is even a half-hearted attempts to a twist to the ending of the movie, which ends up quite confusing. Is all the Spanish horror films this disappointing?</td>\n",
       "      <td>0</td>\n",
       "    </tr>\n",
       "    <tr>\n",
       "      <th>6801</th>\n",
       "      <td>5725_4</td>\n",
       "      <td>This film was released soon after the Conan films, a sort of female Conan, Red Sonja played by Sylvester Stallones ex-wife Brigitte Nielsen. She's not a very good actress unfortunately as proved in Rocky IV and Cobra. The whole film feels cheap, but strangely Arnold Swarzenegger appears in this film but not as Conan, although he looks, acts and fights like Conan from the two Conan films, I don't know what thats about. Anyway he only appears about every twenty minutes and doesn't hang around for long. Maybe Arnold filmed this in his time off from filming Conan the Destroyer or something? Anyway the film is way to slow and boring for an action film, skip this and watch Conan the Barbarian instead.</td>\n",
       "      <td>0</td>\n",
       "    </tr>\n",
       "  </tbody>\n",
       "</table>\n",
       "</div>"
      ],
      "text/plain": [
       "             id  \\\n",
       "557    11818_4    \n",
       "20836  1237_2     \n",
       "5691   5339_1     \n",
       "13968  183_4      \n",
       "4622   12206_10   \n",
       "20983  2842_9     \n",
       "15541  2570_4     \n",
       "24819  939_4      \n",
       "12083  11669_10   \n",
       "13259  7272_1     \n",
       "21083  1935_3     \n",
       "19056  5489_2     \n",
       "6168   8896_8     \n",
       "4297   8046_1     \n",
       "5291   11744_7    \n",
       "22080  7369_10    \n",
       "12620  11520_1    \n",
       "22397  7157_10    \n",
       "20038  8575_2     \n",
       "6801   5725_4     \n",
       "\n",
       "                                                                                                                                                                                                                                                                                                                                                                                                                                                                                                                                                                                                                                                                                                                                                                                                                                                                                                                                                                                                                                                                                                                                                                                                                                                                                                                                                                                                                                                                                                                                                                                                                                                                                                                                                                                                                                                                                                                                                                                                                                                                                                                                                                                                                                                                                                                                                                                                                                                                   review  \\\n",
       "557    The plot for Black Mama White Mama, revolves around two female inmates, at a women's prison in the Phillipines. One Black, and one White. These two women, are thrown together in the prison. Pam Grier is Lee Daniels Lee is incarcerated in the hellish women's prison, for dancing as a harem girl. <br /><br />Lee's boyfriend owes her part of his profits, from his drug-dealing activities. Lee is mainly interested in breaking out of the prison to get hold of her beau's drug money, so that she can leave the Phillipines and assume a better life. Margaret Markov plays Karen Brent, a white women from a privileged background, who is also a revolutionary. Karen has joined a group of revolutionaries, determined to change the corrupt Phillipino political system. She's captured by Phillipino authorities, and held as a political prisoner.<br /><br />The story-line takes-off, when Karen and Lee break out of the prison they were in together. The two of them also happened to be chained together at the wrist. As they flee, they also fight with each other, because they have different goals to pursue. Naturally, they hate being chained together. But they also realize that they must put aside their differences, to help each other survive while they evade capture.<br /><br />If this film seems very similar to The Big Bird Cage, it's because much of the cast in the two films is the same, as well as their location in the Phillipines. Roger Corman, has always had a consistent stable of actors, that he used in all of his 70s B movies. Besides Pam Grier, Sid Haig, Roberta Collins, Claudia Jennings, Betty Anne Rees, and William Smith, were also among the many actors that were frequently cast, in Corman's AIP films.<br /><br />Like The Big Bird Cage, Black Mama White Mama, relies on too much gory violence to be palatable. Pam Grier conveys her usual tough chick persona in this film, and shows her competence as a female action heroine. Margaret Markov is less effect, in her portrayal of the revolutionary Karen. She just seems to fragile and well-coiffed, to be a dedicated political guerrilla. Except for Sid Haig, as the colorful Ruben, the rest of the cast is forgettable.<br /><br />This film has little entertainment value, unless excessive, heinous acts of violence are your thing. Only the performances by Pam Grier and Sig Haig, make this film worth watching.   \n",
       "20836  I must have missed a part of this movie... I found myself asking who is this? And, when did that happen? It seemed to jump around but I kept watching for fear I was missing something and it would all be explained to me. I loved Lonesome Dove but this movie made no sense to me at all. I did love all the actors but what happened to the rest of the movie? It made me go \\what\\\"? at the beginning of each part..As far as the scenery - I thought it was fine..It made me feel though like I was leafing through a book and leaving pages out.. The ending had me a little confused too although I imagine the boy was waiting for his father and was meant to leave you wondering if his father would finally come home to his son and be a father since his mother was now gone..I would like to read the book just to see what I missed in the movie..I don't expect this one to win any awards.\"                                                                                                                                                                                                                                                                                                                                                                                                                                                                                                                                                                                                                                                                                                                                                                                                                                                                                                                                                                                                                                                                                                                                                                                                                                                                                                                                                                                                                                                                                                                                                        \n",
       "5691   I've been watching a lot of Asian horror movies lately, but this one has to be the worst so far. It started out interestingly enough, but lost momentum after the first 15 minutes of the movie. The added \\drama\\\" scenes, flashback sequences and serious plot holes left me hanging. What really happened in the tunnel? Just \\\"something terrible\\\"??? Who started all the killing if it wasn't the ghost? What did she want returned to her????? No answers whatsoever! Overall, not very scary at all and the movie makers need to come up with a lot better ideas than this...<br /><br />One positive was the cute actress, but that's about it.<br /><br />Not recommended.\"                                                                                                                                                                                                                                                                                                                                                                                                                                                                                                                                                                                                                                                                                                                                                                                                                                                                                                                                                                                                                                                                                                                                                                                                                                                                                                                                                                                                                                                                                                                                                                                                                                                                                                                                                                                \n",
       "13968  He who fights with monsters might take care lest he thereby become a monster. And if you gaze for long into an abyss, the abyss gazes also into you.<br /><br />Yes, this is from Nietzsche's Aphorism 146 from \\Beyond Good and Evil\\\". And that's what you find at the start of this movie.<br /><br />If you watch the whole movie, you will doubt if it was the message that the Ram Gopal Varma Production wanted to pass on. As the scenes crop up one by one, quite violent and at times puke-raking, the viewer is expected to forget the Nietzsche quote and think otherwise. That to deal with few people you need dedicated people like Sadhu Agashe who will have the licence to kill anyone, not just writing FIRs (something unworthy of the police to do, as we are made to believe).<br /><br />When TADA was repealed and the government wanted to pass newer and even more draconian laws, RGV's \\\"Satya\\\" did the required brain surgery without blood transfusion for the multiplex growing thinking urban crowd whose views matters in a democratic country like India. Within a year MCOCA was passed.<br /><br />When real life encounter specialist Daya Nayak 'became a monster on the path of fighting them' and was himself booked by MCOCA, \\\"Aab tak Chhappan\\\" was made to heed out \\\"false\\\" impression among the people about this. With it's \\\"you have to be a monster to save your nation\\\" approach.<br /><br />And people consumed it. No questions raised. Only praises and hopes that they get a Sadhu Agashe in their local police station who will solve all problems and hence let only milk and butter flow all over. Blood? You can ignore.<br /><br />Every time Israel attacks Palestine or Lebanon, we hear voices like \\\"India must also similarly attack Pakistan\\\". This movie is made for such psychopaths. If you don't give them this, they will probably die out of boredom and LSD and what not.<br /><br />Hence this game of the passion of hatred.\"                                                                                                                                                                                                                                                                                                                                                                                                                                                        \n",
       "4622   Surface was awesome, I don't know how many Mondays I survived at school just by thinking about the new episode of surface. I loved it, sometimes I had to call home and tell my mom to tape it for me. I was pretty upset when I heard it was cancelled, I mean jeez way to let us hang. So,they can have their new Tina fay comedy(you couldn't pay me to watch that, I think seeing the commercials made me dumber). I'm gonna miss my Monday night fix of Surface, even if my sister did make fun of me. although,kidnapped does look good and, they still have L&O: SVU (i think, i still have to check) (i only wrote the 2 lines above, because they said i needed ten lines).                                                                                                                                                                                                                                                                                                                                                                                                                                                                                                                                                                                                                                                                                                                                                                                                                                                                                                                                                                                                                                                                                                                                                                                                                                                                                                                                                                                                                                                                                                                                                                                                                                                                                                                                                                                 \n",
       "20983  A question immediately arises in this extremely idiosyncratic film: Who are the crazy people?<br /><br />The answer become less clear as the film goes on.<br /><br />Renee Zellweger loses the whiney note in her voice and, while her voice is still high, she is incredibly effective as the shell-shocked Betty. In fact, she is so effective I almost wanted her to be just a little more crazy because her created reality was so believable.<br /><br />This is the first time Ms Zellweger has been called upon to carry a film and she is more than equal to the task.<br /><br />Chris Rock Â though as foul-mouthed as usual Â is fairly subdued as Wesley. He is able to sublimate his manic energy and it only occasionally surfaces and always when it is needed most.<br /><br />There are some interesting allusions: the first time you see Betty she is dressed almost exactly like Dorothy Gale from the `Wizard of Oz' Â then later in the film she is compared to Dorothy when she says she has never been out of Kansas before. At one point the song that Doris Day was best known for, ÂQue Sera Sera' is on the soundtrack and then later Charlie (Morgan Freeman) describes her as having Âa whole Doris Day thing going on.'<br /><br />This is an extremely quirky film with good performances by everyone including the supporting cast.<br /><br />It has a surprising ending that, as contrary as it sounds, is actually fairly predictable.<br /><br />If for no other reason see this film just to listen to the master of the human voice: Morgan Freeman.                                                                                                                                                                                                                                                                                                                                                                                                                                                                                                                                                                                                                                                                                                                                                                                                                                                                    \n",
       "15541  Apart from some quite stunning scenery, this Steven Seagal vehicle is devoid of reasons to spend any time watching it. For a Seagal movie it has very little (almost no) action but he does put in some reasonable (for him) acting in contrived character development scenes. Not recommended. To anyone.                                                                                                                                                                                                                                                                                                                                                                                                                                                                                                                                                                                                                                                                                                                                                                                                                                                                                                                                                                                                                                                                                                                                                                                                                                                                                                                                                                                                                                                                                                                                                                                                                                                                                                                                                                                                                                                                                                                                                                                                                                                                                                                                                           \n",
       "24819  A quick, funny coming-of-age matinÃ©e romp appealing to the underdog aldolescent in us all. It functions, in effect, as a vehicle for Justin Long who has subsequently erupted onto our screens in the fourth Die Hard via PC vs Mac ads, Dodgeball and The Break Up. He's funny, earnest and young - a big career ahead.<br /><br />A town's worth of college wannabes find a fake website Bartelby (Long) has set up to delude his judgemental parents and descend on the 'college' like it were a short notice Facebook party. Lewis Black summises the anarchic philosophy as a stand-in Dean - Long's delinquent friends provide support for the subterfuge and consequent appeal to grander traditions of education and friendship (Adam Herschman deserves special mention for his never-flagging slapstick contribution). Well executed, feelgood and instantly forgettable. 4/10                                                                                                                                                                                                                                                                                                                                                                                                                                                                                                                                                                                                                                                                                                                                                                                                                                                                                                                                                                                                                                                                                                                                                                                                                                                                                                                                                                                                                                                                                                                                                                            \n",
       "12083  I'm astonished how a filmmaker notorious for his political left-wing fervor could make such a subtle, non-sanctimonious picture. If you're for capital punishment, you'll still be for it after seeing this. If you're against capital punishment, you'll still be against it. But whatever your stance is, this movie will, at the very least, make you reflect on why you feel the way you do. There's not one false note in the film.                                                                                                                                                                                                                                                                                                                                                                                                                                                                                                                                                                                                                                                                                                                                                                                                                                                                                                                                                                                                                                                                                                                                                                                                                                                                                                                                                                                                                                                                                                                                                                                                                                                                                                                                                                                                                                                                                                                                                                                                                             \n",
       "13259  Finally, I can connect the dots between Return of the Jedi and Phantom Menace. We see here where Lucas lost touch with what made the original Star Wars films great and began to descend into the plot less tripe that ruined episodes 1-3. This film is more like one of those cheesy low-budget 80s swords and sorcerer films than anything worthy of being associated with the Star Wars saga. As with the Jar-Jar character, this seems targeted at children (and the toy market). The battle scenes are particularly bad. It was depressing to see Sian Phillips' incredible talent go to such a waste, after her classic performance in I, Claudius.                                                                                                                                                                                                                                                                                                                                                                                                                                                                                                                                                                                                                                                                                                                                                                                                                                                                                                                                                                                                                                                                                                                                                                                                                                                                                                                                                                                                                                                                                                                                                                                                                                                                                                                                                                                                           \n",
       "21083  I saw this when it came out in theaters back in 1996. I remember I was already familiar with Elijah Wood's work (that's right, he made stuff before \\Lord of the Rings\\\"!) and the merchandising tie-ins to the film were pretty abundant (\\\"Flipper\\\" water guns were even circulating).<br /><br />Adults were reminded of the old movies and TV show and for nostalgia's sake took their kids to see it, who were excited because it was a movie about a dolphin and a stupid boy.<br /><br />Unfortunately it wasn't what anyone expected and flopped severely. You know a movie's in trouble when a boy swims away from a Hammerhead shark in the middle of the ocean, and a pack of dolphins scare the shark away, and the kid -- instead of getting out of the water into a boat -- floats in the water for five minutes thanking his dolphin for saving him ... apparently he hasn't taken into mind that the shark is still out there, perhaps even below him.<br /><br />Another problem is Paul Hogan. He looks old, crusty and tired of recycling his Croc Dundee shtick. By now, no one even remembered \\\"Crocodile Dundee\\\" much less Hogan, and I half expected him to suddenly start pretending he didn't know what a hair dryer was for the sake of fish-out-of-water/social-satire laughs.<br /><br />All in all this is a really poor \\\"family\\\" movie that is amateurish and almost hard to watch at times. I hated it when I saw it in theaters back in '96 and I hate it more now.\"                                                                                                                                                                                                                                                                                                                                                                                                                                                                                                                                                                                                                                                                                                                                                                                                                                                                                                                                                            \n",
       "19056  'Illuminata' has expanded the limits of John Turturro's mediocrity from second rate actor to third rate director, writer and producer. This film was dreadful. It is disjointed and flits from scene to scene with little flow or meaning relevant to the main story line.<br /><br />We are served with a smorgasbord of fragmented scenes, each a non sequitur to all the others. The only thread that seems to run through them is that they occur in the lives of the members of the same theatre repertory company. The few scenes that do matter to the plot are so convoluted that you frequently can't tell if the dialogue is from the story or the actors running their lines for the play within the story. <br /><br />If this story were a person it would be a schizophrenic with mulitple personality disorder. It couldn't decide if it was a drama, a romance, a comedy, a tragedy, a sex farce, or a parody of theatre. It came closest to being bearable as a sex farce.<br /><br /> Turturro was lifeless and impassive as Tuccio, supposedly a complex and passionate writer whose play gets its big chance when the currently running show needs to be cancelled due to the illness of the lead actor. Susan Sarandon gave a good performance as the aging actress trying to seduce Tuccio for a role. Unfortunately, she found it necessary to go topless which only goes to illustrate that the hardware of aging sex symbols is much better left to the imagination. Christoher Walkin gave a delightful performance as the uppity theatre critic who makes impassioned overtures to a member of the cast. Beverly D'Angelo and Ben Gazzara also had minor roles.<br /><br />I gave this film a 2. Other than Walken's vignette, there is really not much to recommend it except that the puppets used in the opening and closing credits were phenomenally lifelike and beautiful. Avoid this movie like the plague that it is.<br /><br />                                                                                                                                                                                                                                                                                                                                                                                                                                                                                                \n",
       "6168   As much as I hate to disagree with the original poster, I found Asterix and the Vikings quite good, and a HUGE step above previous attempts at animating everyone's favorite Gaul.<br /><br />For someone not familiar with the famous comic series, the show would be hard to follow, but for those of us in the know, it's a pleasure to watch.<br /><br />First and foremost, the animation is far superior to earlier comic adaptations. You can tell they took the time and effort to really recapture the look and feel of the comics this time around.<br /><br />As mentioned, there are elements of other Asterix titles in the movie and I can see how fans of those titles might feel confused or a bit let down, but I was so caught up in actually seeing one of my favorite childhood comics faithfully represented on the screen, any qualms I had were minor by comparison. Minor spoilers follow...<br /><br />Asterix and his faithful friend Obelix travel north to rescue the nephew of their village chief, who has been captured by the Vikings. The Vikings think that by the boy teaching them about fear, they will be able to fly, thanks to some poorly worded advice from their village druid. In the process, the boy meets the Viking Chief's daughter Abba and they fall in love, etc etc etc... If my explanation sounds convoluted, don't worry.. The plot is easy to follow! Definitely a great buy.. You can purchase this DVD through Amazon France, but be warned.. Your DVD player probably won't be able to play it. I had to change the region setting on my computer to view it..                                                                                                                                                                                                                                                                                                                                                                                                                                                                                                                                                                                                                                                                                                                                                                                                                                           \n",
       "4297   This is no doubt one of the worst movies i have seen in a long time. I was expecting alot more from the actors. It started alright, then things go from idiotic to absolutely ridiculous. Definitely not worth renting except if its a free rental.                                                                                                                                                                                                                                                                                                                                                                                                                                                                                                                                                                                                                                                                                                                                                                                                                                                                                                                                                                                                                                                                                                                                                                                                                                                                                                                                                                                                                                                                                                                                                                                                                                                                                                                                                                                                                                                                                                                                                                                                                                                                                                                                                                                                                  \n",
       "5291   Based on the 1952 autobiography \\A Many-Splendoured Thing,\\\" \\\"Love Is a Many-Splendored Thing\\\" (1955) tells the story of Han Suyin, focusing on the romance that Han, a widowed Eurasian doctor in 1949 Hong Kong, had with a married American correspondent named Mark Elliott. \\\"I don't want to feel anything again, ever,\\\" Han tells Mark soon after they meet, but the two soon develop the mutual irresistibles for each other, and who can blame them? Mark is played by William Holden at the near peak of his hunky-dude period (the following year's \\\"Picnic\\\" would be the peak) in this, the first of three films over the next seven years that would find Holden in China (1960's \\\"The World of Suzie Wong\\\" and 1962's \\\"Satan Never Sleeps\\\" being the others). And Dr. Han is here played by Jennifer Jones, who, although not a Eurasian (unlike yummy Nancy Kwan and pretty France Nuyen of those other exotic Holden films), does a credible job of passing as one. Whether dressed in cheongsam, European frock, surgical gown or (hubba-hubba!) bathing suit, Jones looks ridiculously gorgeous here. No wonder East meets West in this film so dramatically! With its two appealing lead stars, breathtaking Hong Kong scenery, beautiful CinemaScope and color, Oscar-winning costumes and that classic, Oscar-winning title song that wafts through the film like a lovely incense, \\\"Love Is a Many-Splendored Thing\\\" turns out to be quite the winning and romantic concoction. Han herself supposedly did not care for the picture, so I can only imagine that great liberties were taken with her source material. Still, I enjoyed it. And if the film's ending causes a tear to come to the eye, just remember Mark's words of wisdom: \\\"Life's greatest tragedy is not to be loved.\\\"\"                                                                                                                                                                                                                                                                                                                                                                                                                                                                                                                                                                                                                                         \n",
       "22080  This movie is about a group of four friends who wreck a car while driving. They build a campfire to get though the night and wait for help. To pass the time, they tell each other scary stories. To tell about it would ruin the movie, so rent and enjoy it!!<br /><br />I will say it starts out a little slow, but each tale get better and better. This movie stars some of today's hottest actors Christine Taylor(The Brady Bunch Movies), James Marsden(Disturbing Behavior) and Ron Livingston (Office Space). So you can see there are big name stars just not the really big ones!!GO rent or buy it ASAP !!This movie is awesome!!                                                                                                                                                                                                                                                                                                                                                                                                                                                                                                                                                                                                                                                                                                                                                                                                                                                                                                                                                                                                                                                                                                                                                                                                                                                                                                                                                                                                                                                                                                                                                                                                                                                                                                                                                                                                                       \n",
       "12620  Ed Wood rides again. The fact that this movie was made should give any young<br /><br />aspiring film maker hope. Any screenplay you might have thought of using to<br /><br />line a litterbox or a birdcage should now not seem that bad. Do not watch this movie unless you have a healthy stash of Tylenol or Rolaids. Watching this<br /><br />movie made me realize that Boa vs. Python was not that bad after all. It probably would have been better to do this movie in Claymation as at least that way no actor would have had to take credit for being in this film. It is understandable why this director has so many aliases. There is a bright side to watching this movie in that if you can get someone to bring you a bag of chips, then you can eat your way out of the cocoon of cheese that surrounds you enabling you to<br /><br />make your toward your TV set's cocoon of cheese that surrounds it.                                                                                                                                                                                                                                                                                                                                                                                                                                                                                                                                                                                                                                                                                                                                                                                                                                                                                                                                                                                                                                                                                                                                                                                                                                                                                                                                                                                                                                                                                                                                         \n",
       "22397  Forgiving the Franklins is the best film I have seen in years. The acting was fantastic..especially Mari Blackwell who was truly remarkable in the role of Peggy Lester. She brought Peggy to life with incredible skill and made her as real as my own next-door neighbor. I also enjoyed Robertson Dean in the role of the father... he is a true professional, and managed to pull off even the most intimate scenes with a rare grace. The performances by the entire cast were very good, excellent, in fact but Peggy's role as played by Blackwell made the movie. The cinematography was beautifully done throughout and was most impressive. The only criticism I have to offer is a slight weakness of the ending scenes, which were overly drawn out, repetitive and a bit too focused on the wrong character. I would have liked to see it end on a note of forgiveness....but spite of that slight flaw, it is very much worth the watching and applause for all involved in the making of it.                                                                                                                                                                                                                                                                                                                                                                                                                                                                                                                                                                                                                                                                                                                                                                                                                                                                                                                                                                                                                                                                                                                                                                                                                                                                                                                                                                                                                                                          \n",
       "20038  I don't usually like to comment on the acting in a movie, because it is the one thing that people who have agenda against a film will go after. In this movie, I will make an exception. The acting in this film are below average all around. I mean halfway into the film, I wonder how the hell did the producer and/or the director gets around casting such an ensemble of people who can't act. Even-though the production value was good, the ill written story just compounded on top of the bad performance of the actors, and there is even a half-hearted attempts to a twist to the ending of the movie, which ends up quite confusing. Is all the Spanish horror films this disappointing?                                                                                                                                                                                                                                                                                                                                                                                                                                                                                                                                                                                                                                                                                                                                                                                                                                                                                                                                                                                                                                                                                                                                                                                                                                                                                                                                                                                                                                                                                                                                                                                                                                                                                                                                                              \n",
       "6801   This film was released soon after the Conan films, a sort of female Conan, Red Sonja played by Sylvester Stallones ex-wife Brigitte Nielsen. She's not a very good actress unfortunately as proved in Rocky IV and Cobra. The whole film feels cheap, but strangely Arnold Swarzenegger appears in this film but not as Conan, although he looks, acts and fights like Conan from the two Conan films, I don't know what thats about. Anyway he only appears about every twenty minutes and doesn't hang around for long. Maybe Arnold filmed this in his time off from filming Conan the Destroyer or something? Anyway the film is way to slow and boring for an action film, skip this and watch Conan the Barbarian instead.                                                                                                                                                                                                                                                                                                                                                                                                                                                                                                                                                                                                                                                                                                                                                                                                                                                                                                                                                                                                                                                                                                                                                                                                                                                                                                                                                                                                                                                                                                                                                                                                                                                                                                                                     \n",
       "\n",
       "       predict review  \n",
       "557    1               \n",
       "20836  1               \n",
       "5691   0               \n",
       "13968  0               \n",
       "4622   1               \n",
       "20983  1               \n",
       "15541  0               \n",
       "24819  1               \n",
       "12083  1               \n",
       "13259  0               \n",
       "21083  0               \n",
       "19056  0               \n",
       "6168   1               \n",
       "4297   0               \n",
       "5291   1               \n",
       "22080  0               \n",
       "12620  0               \n",
       "22397  1               \n",
       "20038  0               \n",
       "6801   0               "
      ]
     },
     "execution_count": 22,
     "metadata": {},
     "output_type": "execute_result"
    }
   ],
   "source": [
    "pd.set_option('display.max_colwidth', -1)\n",
    "sentimentTestNoLabel.sample(20)"
   ]
  }
 ],
 "metadata": {
  "kernelspec": {
   "display_name": "Python 3",
   "language": "python",
   "name": "python3"
  },
  "language_info": {
   "codemirror_mode": {
    "name": "ipython",
    "version": 3
   },
   "file_extension": ".py",
   "mimetype": "text/x-python",
   "name": "python",
   "nbconvert_exporter": "python",
   "pygments_lexer": "ipython3",
   "version": "3.7.3"
  }
 },
 "nbformat": 4,
 "nbformat_minor": 2
}
